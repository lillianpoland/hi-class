{
  "nbformat": 4,
  "nbformat_minor": 0,
  "metadata": {
    "colab": {
      "provenance": [],
      "include_colab_link": true
    },
    "kernelspec": {
      "name": "python3",
      "display_name": "Python 3"
    },
    "language_info": {
      "name": "python"
    },
    "widgets": {
      "application/vnd.jupyter.widget-state+json": {
        "943a2ef84e2640cf9c27a9152cb9d5e5": {
          "model_module": "@jupyter-widgets/output",
          "model_name": "OutputModel",
          "model_module_version": "1.0.0",
          "state": {
            "_dom_classes": [],
            "_model_module": "@jupyter-widgets/output",
            "_model_module_version": "1.0.0",
            "_model_name": "OutputModel",
            "_view_count": null,
            "_view_module": "@jupyter-widgets/output",
            "_view_module_version": "1.0.0",
            "_view_name": "OutputView",
            "layout": "IPY_MODEL_5c1f5a247dfc4cb99de8159838fbfb87",
            "msg_id": "",
            "outputs": [
              {
                "output_type": "display_data",
                "data": {
                  "text/plain": "                                                                                                                   \n \u001b[1m \u001b[0m\u001b[1mProgress                 \u001b[0m\u001b[1m \u001b[0m \u001b[1m \u001b[0m\u001b[1mDraws\u001b[0m\u001b[1m \u001b[0m \u001b[1m \u001b[0m\u001b[1mDivergences\u001b[0m\u001b[1m \u001b[0m \u001b[1m \u001b[0m\u001b[1mStep size\u001b[0m\u001b[1m \u001b[0m \u001b[1m \u001b[0m\u001b[1mGrad evals\u001b[0m\u001b[1m \u001b[0m \u001b[1m \u001b[0m\u001b[1mSampling Speed\u001b[0m\u001b[1m \u001b[0m \u001b[1m \u001b[0m\u001b[1mElapsed\u001b[0m\u001b[1m \u001b[0m \u001b[1m \u001b[0m\u001b[1mRemaining\u001b[0m\u001b[1m \u001b[0m \n ───────────────────────────────────────────────────────────────────────────────────────────────────────────────── \n  \u001b[38;2;31;119;180m━━━━━━━━━━━━━━━━━━━━━━━━━\u001b[0m   2000    0             0.76        7            914.16 draws/s   0:00:02   0:00:00    \n  \u001b[38;2;31;119;180m━━━━━━━━━━━━━━━━━━━━━━━━━\u001b[0m   2000    0             0.85        7            456.72 draws/s   0:00:04   0:00:00    \n                                                                                                                   \n",
                  "text/html": "<pre style=\"white-space:pre;overflow-x:auto;line-height:normal;font-family:Menlo,'DejaVu Sans Mono',consolas,'Courier New',monospace\">                                                                                                                   \n <span style=\"font-weight: bold\"> Progress                  </span> <span style=\"font-weight: bold\"> Draws </span> <span style=\"font-weight: bold\"> Divergences </span> <span style=\"font-weight: bold\"> Step size </span> <span style=\"font-weight: bold\"> Grad evals </span> <span style=\"font-weight: bold\"> Sampling Speed </span> <span style=\"font-weight: bold\"> Elapsed </span> <span style=\"font-weight: bold\"> Remaining </span> \n ───────────────────────────────────────────────────────────────────────────────────────────────────────────────── \n  <span style=\"color: #1f77b4; text-decoration-color: #1f77b4\">━━━━━━━━━━━━━━━━━━━━━━━━━</span>   2000    0             0.76        7            914.16 draws/s   0:00:02   0:00:00    \n  <span style=\"color: #1f77b4; text-decoration-color: #1f77b4\">━━━━━━━━━━━━━━━━━━━━━━━━━</span>   2000    0             0.85        7            456.72 draws/s   0:00:04   0:00:00    \n                                                                                                                   \n</pre>\n"
                },
                "metadata": {}
              }
            ]
          }
        },
        "5c1f5a247dfc4cb99de8159838fbfb87": {
          "model_module": "@jupyter-widgets/base",
          "model_name": "LayoutModel",
          "model_module_version": "1.2.0",
          "state": {
            "_model_module": "@jupyter-widgets/base",
            "_model_module_version": "1.2.0",
            "_model_name": "LayoutModel",
            "_view_count": null,
            "_view_module": "@jupyter-widgets/base",
            "_view_module_version": "1.2.0",
            "_view_name": "LayoutView",
            "align_content": null,
            "align_items": null,
            "align_self": null,
            "border": null,
            "bottom": null,
            "display": null,
            "flex": null,
            "flex_flow": null,
            "grid_area": null,
            "grid_auto_columns": null,
            "grid_auto_flow": null,
            "grid_auto_rows": null,
            "grid_column": null,
            "grid_gap": null,
            "grid_row": null,
            "grid_template_areas": null,
            "grid_template_columns": null,
            "grid_template_rows": null,
            "height": null,
            "justify_content": null,
            "justify_items": null,
            "left": null,
            "margin": null,
            "max_height": null,
            "max_width": null,
            "min_height": null,
            "min_width": null,
            "object_fit": null,
            "object_position": null,
            "order": null,
            "overflow": null,
            "overflow_x": null,
            "overflow_y": null,
            "padding": null,
            "right": null,
            "top": null,
            "visibility": null,
            "width": null
          }
        },
        "79797f95c95f4784b340b254a6a8d63b": {
          "model_module": "@jupyter-widgets/output",
          "model_name": "OutputModel",
          "model_module_version": "1.0.0",
          "state": {
            "_dom_classes": [],
            "_model_module": "@jupyter-widgets/output",
            "_model_module_version": "1.0.0",
            "_model_name": "OutputModel",
            "_view_count": null,
            "_view_module": "@jupyter-widgets/output",
            "_view_module_version": "1.0.0",
            "_view_name": "OutputView",
            "layout": "IPY_MODEL_d3a2d12bebad451eaa9e9d38e5fb7a92",
            "msg_id": "",
            "outputs": [
              {
                "output_type": "display_data",
                "data": {
                  "text/plain": "                                                                                                                   \n \u001b[1m \u001b[0m\u001b[1mProgress                 \u001b[0m\u001b[1m \u001b[0m \u001b[1m \u001b[0m\u001b[1mDraws\u001b[0m\u001b[1m \u001b[0m \u001b[1m \u001b[0m\u001b[1mDivergences\u001b[0m\u001b[1m \u001b[0m \u001b[1m \u001b[0m\u001b[1mStep size\u001b[0m\u001b[1m \u001b[0m \u001b[1m \u001b[0m\u001b[1mGrad evals\u001b[0m\u001b[1m \u001b[0m \u001b[1m \u001b[0m\u001b[1mSampling Speed\u001b[0m\u001b[1m \u001b[0m \u001b[1m \u001b[0m\u001b[1mElapsed\u001b[0m\u001b[1m \u001b[0m \u001b[1m \u001b[0m\u001b[1mRemaining\u001b[0m\u001b[1m \u001b[0m \n ───────────────────────────────────────────────────────────────────────────────────────────────────────────────── \n  \u001b[38;2;31;119;180m━━━━━━━━━━━━━━━━━━━━━━━━━\u001b[0m   2000    0             0.97        7            922.25 draws/s   0:00:02   0:00:00    \n  \u001b[38;2;31;119;180m━━━━━━━━━━━━━━━━━━━━━━━━━\u001b[0m   2000    0             0.86        7            466.70 draws/s   0:00:04   0:00:00    \n                                                                                                                   \n",
                  "text/html": "<pre style=\"white-space:pre;overflow-x:auto;line-height:normal;font-family:Menlo,'DejaVu Sans Mono',consolas,'Courier New',monospace\">                                                                                                                   \n <span style=\"font-weight: bold\"> Progress                  </span> <span style=\"font-weight: bold\"> Draws </span> <span style=\"font-weight: bold\"> Divergences </span> <span style=\"font-weight: bold\"> Step size </span> <span style=\"font-weight: bold\"> Grad evals </span> <span style=\"font-weight: bold\"> Sampling Speed </span> <span style=\"font-weight: bold\"> Elapsed </span> <span style=\"font-weight: bold\"> Remaining </span> \n ───────────────────────────────────────────────────────────────────────────────────────────────────────────────── \n  <span style=\"color: #1f77b4; text-decoration-color: #1f77b4\">━━━━━━━━━━━━━━━━━━━━━━━━━</span>   2000    0             0.97        7            922.25 draws/s   0:00:02   0:00:00    \n  <span style=\"color: #1f77b4; text-decoration-color: #1f77b4\">━━━━━━━━━━━━━━━━━━━━━━━━━</span>   2000    0             0.86        7            466.70 draws/s   0:00:04   0:00:00    \n                                                                                                                   \n</pre>\n"
                },
                "metadata": {}
              }
            ]
          }
        },
        "d3a2d12bebad451eaa9e9d38e5fb7a92": {
          "model_module": "@jupyter-widgets/base",
          "model_name": "LayoutModel",
          "model_module_version": "1.2.0",
          "state": {
            "_model_module": "@jupyter-widgets/base",
            "_model_module_version": "1.2.0",
            "_model_name": "LayoutModel",
            "_view_count": null,
            "_view_module": "@jupyter-widgets/base",
            "_view_module_version": "1.2.0",
            "_view_name": "LayoutView",
            "align_content": null,
            "align_items": null,
            "align_self": null,
            "border": null,
            "bottom": null,
            "display": null,
            "flex": null,
            "flex_flow": null,
            "grid_area": null,
            "grid_auto_columns": null,
            "grid_auto_flow": null,
            "grid_auto_rows": null,
            "grid_column": null,
            "grid_gap": null,
            "grid_row": null,
            "grid_template_areas": null,
            "grid_template_columns": null,
            "grid_template_rows": null,
            "height": null,
            "justify_content": null,
            "justify_items": null,
            "left": null,
            "margin": null,
            "max_height": null,
            "max_width": null,
            "min_height": null,
            "min_width": null,
            "object_fit": null,
            "object_position": null,
            "order": null,
            "overflow": null,
            "overflow_x": null,
            "overflow_y": null,
            "padding": null,
            "right": null,
            "top": null,
            "visibility": null,
            "width": null
          }
        },
        "c38b7ea93ed4433e9caa6b888e520c68": {
          "model_module": "@jupyter-widgets/output",
          "model_name": "OutputModel",
          "model_module_version": "1.0.0",
          "state": {
            "_dom_classes": [],
            "_model_module": "@jupyter-widgets/output",
            "_model_module_version": "1.0.0",
            "_model_name": "OutputModel",
            "_view_count": null,
            "_view_module": "@jupyter-widgets/output",
            "_view_module_version": "1.0.0",
            "_view_name": "OutputView",
            "layout": "IPY_MODEL_faf9959019494cdea9bfc0c75ca116dd",
            "msg_id": "",
            "outputs": [
              {
                "output_type": "display_data",
                "data": {
                  "text/plain": "                                                                                                                   \n \u001b[1m \u001b[0m\u001b[1mProgress                 \u001b[0m\u001b[1m \u001b[0m \u001b[1m \u001b[0m\u001b[1mDraws\u001b[0m\u001b[1m \u001b[0m \u001b[1m \u001b[0m\u001b[1mDivergences\u001b[0m\u001b[1m \u001b[0m \u001b[1m \u001b[0m\u001b[1mStep size\u001b[0m\u001b[1m \u001b[0m \u001b[1m \u001b[0m\u001b[1mGrad evals\u001b[0m\u001b[1m \u001b[0m \u001b[1m \u001b[0m\u001b[1mSampling Speed\u001b[0m\u001b[1m \u001b[0m \u001b[1m \u001b[0m\u001b[1mElapsed\u001b[0m\u001b[1m \u001b[0m \u001b[1m \u001b[0m\u001b[1mRemaining\u001b[0m\u001b[1m \u001b[0m \n ───────────────────────────────────────────────────────────────────────────────────────────────────────────────── \n  \u001b[38;2;31;119;180m━━━━━━━━━━━━━━━━━━━━━━━━━\u001b[0m   2000    0             0.73        3            913.12 draws/s   0:00:02   0:00:00    \n  \u001b[38;2;31;119;180m━━━━━━━━━━━━━━━━━━━━━━━━━\u001b[0m   2000    0             0.69        7            390.79 draws/s   0:00:05   0:00:00    \n                                                                                                                   \n",
                  "text/html": "<pre style=\"white-space:pre;overflow-x:auto;line-height:normal;font-family:Menlo,'DejaVu Sans Mono',consolas,'Courier New',monospace\">                                                                                                                   \n <span style=\"font-weight: bold\"> Progress                  </span> <span style=\"font-weight: bold\"> Draws </span> <span style=\"font-weight: bold\"> Divergences </span> <span style=\"font-weight: bold\"> Step size </span> <span style=\"font-weight: bold\"> Grad evals </span> <span style=\"font-weight: bold\"> Sampling Speed </span> <span style=\"font-weight: bold\"> Elapsed </span> <span style=\"font-weight: bold\"> Remaining </span> \n ───────────────────────────────────────────────────────────────────────────────────────────────────────────────── \n  <span style=\"color: #1f77b4; text-decoration-color: #1f77b4\">━━━━━━━━━━━━━━━━━━━━━━━━━</span>   2000    0             0.73        3            913.12 draws/s   0:00:02   0:00:00    \n  <span style=\"color: #1f77b4; text-decoration-color: #1f77b4\">━━━━━━━━━━━━━━━━━━━━━━━━━</span>   2000    0             0.69        7            390.79 draws/s   0:00:05   0:00:00    \n                                                                                                                   \n</pre>\n"
                },
                "metadata": {}
              }
            ]
          }
        },
        "faf9959019494cdea9bfc0c75ca116dd": {
          "model_module": "@jupyter-widgets/base",
          "model_name": "LayoutModel",
          "model_module_version": "1.2.0",
          "state": {
            "_model_module": "@jupyter-widgets/base",
            "_model_module_version": "1.2.0",
            "_model_name": "LayoutModel",
            "_view_count": null,
            "_view_module": "@jupyter-widgets/base",
            "_view_module_version": "1.2.0",
            "_view_name": "LayoutView",
            "align_content": null,
            "align_items": null,
            "align_self": null,
            "border": null,
            "bottom": null,
            "display": null,
            "flex": null,
            "flex_flow": null,
            "grid_area": null,
            "grid_auto_columns": null,
            "grid_auto_flow": null,
            "grid_auto_rows": null,
            "grid_column": null,
            "grid_gap": null,
            "grid_row": null,
            "grid_template_areas": null,
            "grid_template_columns": null,
            "grid_template_rows": null,
            "height": null,
            "justify_content": null,
            "justify_items": null,
            "left": null,
            "margin": null,
            "max_height": null,
            "max_width": null,
            "min_height": null,
            "min_width": null,
            "object_fit": null,
            "object_position": null,
            "order": null,
            "overflow": null,
            "overflow_x": null,
            "overflow_y": null,
            "padding": null,
            "right": null,
            "top": null,
            "visibility": null,
            "width": null
          }
        },
        "22b517c05d2143e4ba9de9470dbb95e8": {
          "model_module": "@jupyter-widgets/output",
          "model_name": "OutputModel",
          "model_module_version": "1.0.0",
          "state": {
            "_dom_classes": [],
            "_model_module": "@jupyter-widgets/output",
            "_model_module_version": "1.0.0",
            "_model_name": "OutputModel",
            "_view_count": null,
            "_view_module": "@jupyter-widgets/output",
            "_view_module_version": "1.0.0",
            "_view_name": "OutputView",
            "layout": "IPY_MODEL_dc65b7abd4fc4f1b8be539cd3c10a1d6",
            "msg_id": "",
            "outputs": [
              {
                "output_type": "display_data",
                "data": {
                  "text/plain": "                                                                                                                   \n \u001b[1m \u001b[0m\u001b[1mProgress                 \u001b[0m\u001b[1m \u001b[0m \u001b[1m \u001b[0m\u001b[1mDraws\u001b[0m\u001b[1m \u001b[0m \u001b[1m \u001b[0m\u001b[1mDivergences\u001b[0m\u001b[1m \u001b[0m \u001b[1m \u001b[0m\u001b[1mStep size\u001b[0m\u001b[1m \u001b[0m \u001b[1m \u001b[0m\u001b[1mGrad evals\u001b[0m\u001b[1m \u001b[0m \u001b[1m \u001b[0m\u001b[1mSampling Speed\u001b[0m\u001b[1m \u001b[0m \u001b[1m \u001b[0m\u001b[1mElapsed\u001b[0m\u001b[1m \u001b[0m \u001b[1m \u001b[0m\u001b[1mRemaining\u001b[0m\u001b[1m \u001b[0m \n ───────────────────────────────────────────────────────────────────────────────────────────────────────────────── \n  \u001b[38;2;31;119;180m━━━━━━━━━━━━━━━━━━━━━━━━━\u001b[0m   2000    0             0.93        3            663.81 draws/s   0:00:03   0:00:00    \n  \u001b[38;2;31;119;180m━━━━━━━━━━━━━━━━━━━━━━━━━\u001b[0m   2000    0             0.69        7            341.17 draws/s   0:00:05   0:00:00    \n                                                                                                                   \n",
                  "text/html": "<pre style=\"white-space:pre;overflow-x:auto;line-height:normal;font-family:Menlo,'DejaVu Sans Mono',consolas,'Courier New',monospace\">                                                                                                                   \n <span style=\"font-weight: bold\"> Progress                  </span> <span style=\"font-weight: bold\"> Draws </span> <span style=\"font-weight: bold\"> Divergences </span> <span style=\"font-weight: bold\"> Step size </span> <span style=\"font-weight: bold\"> Grad evals </span> <span style=\"font-weight: bold\"> Sampling Speed </span> <span style=\"font-weight: bold\"> Elapsed </span> <span style=\"font-weight: bold\"> Remaining </span> \n ───────────────────────────────────────────────────────────────────────────────────────────────────────────────── \n  <span style=\"color: #1f77b4; text-decoration-color: #1f77b4\">━━━━━━━━━━━━━━━━━━━━━━━━━</span>   2000    0             0.93        3            663.81 draws/s   0:00:03   0:00:00    \n  <span style=\"color: #1f77b4; text-decoration-color: #1f77b4\">━━━━━━━━━━━━━━━━━━━━━━━━━</span>   2000    0             0.69        7            341.17 draws/s   0:00:05   0:00:00    \n                                                                                                                   \n</pre>\n"
                },
                "metadata": {}
              }
            ]
          }
        },
        "dc65b7abd4fc4f1b8be539cd3c10a1d6": {
          "model_module": "@jupyter-widgets/base",
          "model_name": "LayoutModel",
          "model_module_version": "1.2.0",
          "state": {
            "_model_module": "@jupyter-widgets/base",
            "_model_module_version": "1.2.0",
            "_model_name": "LayoutModel",
            "_view_count": null,
            "_view_module": "@jupyter-widgets/base",
            "_view_module_version": "1.2.0",
            "_view_name": "LayoutView",
            "align_content": null,
            "align_items": null,
            "align_self": null,
            "border": null,
            "bottom": null,
            "display": null,
            "flex": null,
            "flex_flow": null,
            "grid_area": null,
            "grid_auto_columns": null,
            "grid_auto_flow": null,
            "grid_auto_rows": null,
            "grid_column": null,
            "grid_gap": null,
            "grid_row": null,
            "grid_template_areas": null,
            "grid_template_columns": null,
            "grid_template_rows": null,
            "height": null,
            "justify_content": null,
            "justify_items": null,
            "left": null,
            "margin": null,
            "max_height": null,
            "max_width": null,
            "min_height": null,
            "min_width": null,
            "object_fit": null,
            "object_position": null,
            "order": null,
            "overflow": null,
            "overflow_x": null,
            "overflow_y": null,
            "padding": null,
            "right": null,
            "top": null,
            "visibility": null,
            "width": null
          }
        },
        "d6ef8077568848439071ab89e0087b83": {
          "model_module": "@jupyter-widgets/output",
          "model_name": "OutputModel",
          "model_module_version": "1.0.0",
          "state": {
            "_dom_classes": [],
            "_model_module": "@jupyter-widgets/output",
            "_model_module_version": "1.0.0",
            "_model_name": "OutputModel",
            "_view_count": null,
            "_view_module": "@jupyter-widgets/output",
            "_view_module_version": "1.0.0",
            "_view_name": "OutputView",
            "layout": "IPY_MODEL_8c0af94968174c3081b6540b727e3ff1",
            "msg_id": "",
            "outputs": [
              {
                "output_type": "display_data",
                "data": {
                  "text/plain": "                                                                                                                   \n \u001b[1m \u001b[0m\u001b[1mProgress                 \u001b[0m\u001b[1m \u001b[0m \u001b[1m \u001b[0m\u001b[1mDraws\u001b[0m\u001b[1m \u001b[0m \u001b[1m \u001b[0m\u001b[1mDivergences\u001b[0m\u001b[1m \u001b[0m \u001b[1m \u001b[0m\u001b[1mStep size\u001b[0m\u001b[1m \u001b[0m \u001b[1m \u001b[0m\u001b[1mGrad evals\u001b[0m\u001b[1m \u001b[0m \u001b[1m \u001b[0m\u001b[1mSampling Speed\u001b[0m\u001b[1m \u001b[0m \u001b[1m \u001b[0m\u001b[1mElapsed\u001b[0m\u001b[1m \u001b[0m \u001b[1m \u001b[0m\u001b[1mRemaining\u001b[0m\u001b[1m \u001b[0m \n ───────────────────────────────────────────────────────────────────────────────────────────────────────────────── \n  \u001b[38;2;31;119;180m━━━━━━━━━━━━━━━━━━━━━━━━━\u001b[0m   2000    0             0.80        7            762.99 draws/s   0:00:02   0:00:00    \n  \u001b[38;2;31;119;180m━━━━━━━━━━━━━━━━━━━━━━━━━\u001b[0m   2000    0             0.86        7            352.11 draws/s   0:00:05   0:00:00    \n                                                                                                                   \n",
                  "text/html": "<pre style=\"white-space:pre;overflow-x:auto;line-height:normal;font-family:Menlo,'DejaVu Sans Mono',consolas,'Courier New',monospace\">                                                                                                                   \n <span style=\"font-weight: bold\"> Progress                  </span> <span style=\"font-weight: bold\"> Draws </span> <span style=\"font-weight: bold\"> Divergences </span> <span style=\"font-weight: bold\"> Step size </span> <span style=\"font-weight: bold\"> Grad evals </span> <span style=\"font-weight: bold\"> Sampling Speed </span> <span style=\"font-weight: bold\"> Elapsed </span> <span style=\"font-weight: bold\"> Remaining </span> \n ───────────────────────────────────────────────────────────────────────────────────────────────────────────────── \n  <span style=\"color: #1f77b4; text-decoration-color: #1f77b4\">━━━━━━━━━━━━━━━━━━━━━━━━━</span>   2000    0             0.80        7            762.99 draws/s   0:00:02   0:00:00    \n  <span style=\"color: #1f77b4; text-decoration-color: #1f77b4\">━━━━━━━━━━━━━━━━━━━━━━━━━</span>   2000    0             0.86        7            352.11 draws/s   0:00:05   0:00:00    \n                                                                                                                   \n</pre>\n"
                },
                "metadata": {}
              }
            ]
          }
        },
        "8c0af94968174c3081b6540b727e3ff1": {
          "model_module": "@jupyter-widgets/base",
          "model_name": "LayoutModel",
          "model_module_version": "1.2.0",
          "state": {
            "_model_module": "@jupyter-widgets/base",
            "_model_module_version": "1.2.0",
            "_model_name": "LayoutModel",
            "_view_count": null,
            "_view_module": "@jupyter-widgets/base",
            "_view_module_version": "1.2.0",
            "_view_name": "LayoutView",
            "align_content": null,
            "align_items": null,
            "align_self": null,
            "border": null,
            "bottom": null,
            "display": null,
            "flex": null,
            "flex_flow": null,
            "grid_area": null,
            "grid_auto_columns": null,
            "grid_auto_flow": null,
            "grid_auto_rows": null,
            "grid_column": null,
            "grid_gap": null,
            "grid_row": null,
            "grid_template_areas": null,
            "grid_template_columns": null,
            "grid_template_rows": null,
            "height": null,
            "justify_content": null,
            "justify_items": null,
            "left": null,
            "margin": null,
            "max_height": null,
            "max_width": null,
            "min_height": null,
            "min_width": null,
            "object_fit": null,
            "object_position": null,
            "order": null,
            "overflow": null,
            "overflow_x": null,
            "overflow_y": null,
            "padding": null,
            "right": null,
            "top": null,
            "visibility": null,
            "width": null
          }
        },
        "d938e68a1e70498e83ed1afe7654aac6": {
          "model_module": "@jupyter-widgets/output",
          "model_name": "OutputModel",
          "model_module_version": "1.0.0",
          "state": {
            "_dom_classes": [],
            "_model_module": "@jupyter-widgets/output",
            "_model_module_version": "1.0.0",
            "_model_name": "OutputModel",
            "_view_count": null,
            "_view_module": "@jupyter-widgets/output",
            "_view_module_version": "1.0.0",
            "_view_name": "OutputView",
            "layout": "IPY_MODEL_b2a29982238249d9a6a43401c3f5cfbb",
            "msg_id": "",
            "outputs": [
              {
                "output_type": "display_data",
                "data": {
                  "text/plain": "                                                                                                                   \n \u001b[1m \u001b[0m\u001b[1mProgress                 \u001b[0m\u001b[1m \u001b[0m \u001b[1m \u001b[0m\u001b[1mDraws\u001b[0m\u001b[1m \u001b[0m \u001b[1m \u001b[0m\u001b[1mDivergences\u001b[0m\u001b[1m \u001b[0m \u001b[1m \u001b[0m\u001b[1mStep size\u001b[0m\u001b[1m \u001b[0m \u001b[1m \u001b[0m\u001b[1mGrad evals\u001b[0m\u001b[1m \u001b[0m \u001b[1m \u001b[0m\u001b[1mSampling Speed\u001b[0m\u001b[1m \u001b[0m \u001b[1m \u001b[0m\u001b[1mElapsed\u001b[0m\u001b[1m \u001b[0m \u001b[1m \u001b[0m\u001b[1mRemaining\u001b[0m\u001b[1m \u001b[0m \n ───────────────────────────────────────────────────────────────────────────────────────────────────────────────── \n  \u001b[38;2;31;119;180m━━━━━━━━━━━━━━━━━━━━━━━━━\u001b[0m   2000    0             0.69        3            931.68 draws/s   0:00:02   0:00:00    \n  \u001b[38;2;31;119;180m━━━━━━━━━━━━━━━━━━━━━━━━━\u001b[0m   2000    0             0.92        3            462.51 draws/s   0:00:04   0:00:00    \n                                                                                                                   \n",
                  "text/html": "<pre style=\"white-space:pre;overflow-x:auto;line-height:normal;font-family:Menlo,'DejaVu Sans Mono',consolas,'Courier New',monospace\">                                                                                                                   \n <span style=\"font-weight: bold\"> Progress                  </span> <span style=\"font-weight: bold\"> Draws </span> <span style=\"font-weight: bold\"> Divergences </span> <span style=\"font-weight: bold\"> Step size </span> <span style=\"font-weight: bold\"> Grad evals </span> <span style=\"font-weight: bold\"> Sampling Speed </span> <span style=\"font-weight: bold\"> Elapsed </span> <span style=\"font-weight: bold\"> Remaining </span> \n ───────────────────────────────────────────────────────────────────────────────────────────────────────────────── \n  <span style=\"color: #1f77b4; text-decoration-color: #1f77b4\">━━━━━━━━━━━━━━━━━━━━━━━━━</span>   2000    0             0.69        3            931.68 draws/s   0:00:02   0:00:00    \n  <span style=\"color: #1f77b4; text-decoration-color: #1f77b4\">━━━━━━━━━━━━━━━━━━━━━━━━━</span>   2000    0             0.92        3            462.51 draws/s   0:00:04   0:00:00    \n                                                                                                                   \n</pre>\n"
                },
                "metadata": {}
              }
            ]
          }
        },
        "b2a29982238249d9a6a43401c3f5cfbb": {
          "model_module": "@jupyter-widgets/base",
          "model_name": "LayoutModel",
          "model_module_version": "1.2.0",
          "state": {
            "_model_module": "@jupyter-widgets/base",
            "_model_module_version": "1.2.0",
            "_model_name": "LayoutModel",
            "_view_count": null,
            "_view_module": "@jupyter-widgets/base",
            "_view_module_version": "1.2.0",
            "_view_name": "LayoutView",
            "align_content": null,
            "align_items": null,
            "align_self": null,
            "border": null,
            "bottom": null,
            "display": null,
            "flex": null,
            "flex_flow": null,
            "grid_area": null,
            "grid_auto_columns": null,
            "grid_auto_flow": null,
            "grid_auto_rows": null,
            "grid_column": null,
            "grid_gap": null,
            "grid_row": null,
            "grid_template_areas": null,
            "grid_template_columns": null,
            "grid_template_rows": null,
            "height": null,
            "justify_content": null,
            "justify_items": null,
            "left": null,
            "margin": null,
            "max_height": null,
            "max_width": null,
            "min_height": null,
            "min_width": null,
            "object_fit": null,
            "object_position": null,
            "order": null,
            "overflow": null,
            "overflow_x": null,
            "overflow_y": null,
            "padding": null,
            "right": null,
            "top": null,
            "visibility": null,
            "width": null
          }
        },
        "ec6cb662ca374a498d43c0a835ab4a78": {
          "model_module": "@jupyter-widgets/output",
          "model_name": "OutputModel",
          "model_module_version": "1.0.0",
          "state": {
            "_dom_classes": [],
            "_model_module": "@jupyter-widgets/output",
            "_model_module_version": "1.0.0",
            "_model_name": "OutputModel",
            "_view_count": null,
            "_view_module": "@jupyter-widgets/output",
            "_view_module_version": "1.0.0",
            "_view_name": "OutputView",
            "layout": "IPY_MODEL_66ba7a2417624a618934f953406f0b76",
            "msg_id": "",
            "outputs": [
              {
                "output_type": "display_data",
                "data": {
                  "text/plain": "                                                                                                                   \n \u001b[1m \u001b[0m\u001b[1mProgress                 \u001b[0m\u001b[1m \u001b[0m \u001b[1m \u001b[0m\u001b[1mDraws\u001b[0m\u001b[1m \u001b[0m \u001b[1m \u001b[0m\u001b[1mDivergences\u001b[0m\u001b[1m \u001b[0m \u001b[1m \u001b[0m\u001b[1mStep size\u001b[0m\u001b[1m \u001b[0m \u001b[1m \u001b[0m\u001b[1mGrad evals\u001b[0m\u001b[1m \u001b[0m \u001b[1m \u001b[0m\u001b[1mSampling Speed\u001b[0m\u001b[1m \u001b[0m \u001b[1m \u001b[0m\u001b[1mElapsed\u001b[0m\u001b[1m \u001b[0m \u001b[1m \u001b[0m\u001b[1mRemaining\u001b[0m\u001b[1m \u001b[0m \n ───────────────────────────────────────────────────────────────────────────────────────────────────────────────── \n  \u001b[38;2;31;119;180m━━━━━━━━━━━━━━━━━━━━━━━━━\u001b[0m   2000    0             0.91        7            981.69 draws/s   0:00:02   0:00:00    \n  \u001b[38;2;31;119;180m━━━━━━━━━━━━━━━━━━━━━━━━━\u001b[0m   2000    0             0.61        7            490.67 draws/s   0:00:04   0:00:00    \n                                                                                                                   \n",
                  "text/html": "<pre style=\"white-space:pre;overflow-x:auto;line-height:normal;font-family:Menlo,'DejaVu Sans Mono',consolas,'Courier New',monospace\">                                                                                                                   \n <span style=\"font-weight: bold\"> Progress                  </span> <span style=\"font-weight: bold\"> Draws </span> <span style=\"font-weight: bold\"> Divergences </span> <span style=\"font-weight: bold\"> Step size </span> <span style=\"font-weight: bold\"> Grad evals </span> <span style=\"font-weight: bold\"> Sampling Speed </span> <span style=\"font-weight: bold\"> Elapsed </span> <span style=\"font-weight: bold\"> Remaining </span> \n ───────────────────────────────────────────────────────────────────────────────────────────────────────────────── \n  <span style=\"color: #1f77b4; text-decoration-color: #1f77b4\">━━━━━━━━━━━━━━━━━━━━━━━━━</span>   2000    0             0.91        7            981.69 draws/s   0:00:02   0:00:00    \n  <span style=\"color: #1f77b4; text-decoration-color: #1f77b4\">━━━━━━━━━━━━━━━━━━━━━━━━━</span>   2000    0             0.61        7            490.67 draws/s   0:00:04   0:00:00    \n                                                                                                                   \n</pre>\n"
                },
                "metadata": {}
              }
            ]
          }
        },
        "66ba7a2417624a618934f953406f0b76": {
          "model_module": "@jupyter-widgets/base",
          "model_name": "LayoutModel",
          "model_module_version": "1.2.0",
          "state": {
            "_model_module": "@jupyter-widgets/base",
            "_model_module_version": "1.2.0",
            "_model_name": "LayoutModel",
            "_view_count": null,
            "_view_module": "@jupyter-widgets/base",
            "_view_module_version": "1.2.0",
            "_view_name": "LayoutView",
            "align_content": null,
            "align_items": null,
            "align_self": null,
            "border": null,
            "bottom": null,
            "display": null,
            "flex": null,
            "flex_flow": null,
            "grid_area": null,
            "grid_auto_columns": null,
            "grid_auto_flow": null,
            "grid_auto_rows": null,
            "grid_column": null,
            "grid_gap": null,
            "grid_row": null,
            "grid_template_areas": null,
            "grid_template_columns": null,
            "grid_template_rows": null,
            "height": null,
            "justify_content": null,
            "justify_items": null,
            "left": null,
            "margin": null,
            "max_height": null,
            "max_width": null,
            "min_height": null,
            "min_width": null,
            "object_fit": null,
            "object_position": null,
            "order": null,
            "overflow": null,
            "overflow_x": null,
            "overflow_y": null,
            "padding": null,
            "right": null,
            "top": null,
            "visibility": null,
            "width": null
          }
        },
        "8c107e7cf78a4ad3873d4d5b9c3d871d": {
          "model_module": "@jupyter-widgets/output",
          "model_name": "OutputModel",
          "model_module_version": "1.0.0",
          "state": {
            "_dom_classes": [],
            "_model_module": "@jupyter-widgets/output",
            "_model_module_version": "1.0.0",
            "_model_name": "OutputModel",
            "_view_count": null,
            "_view_module": "@jupyter-widgets/output",
            "_view_module_version": "1.0.0",
            "_view_name": "OutputView",
            "layout": "IPY_MODEL_20ada4a3d9584aee891ecc8565e4d4dc",
            "msg_id": "",
            "outputs": [
              {
                "output_type": "display_data",
                "data": {
                  "text/plain": "                                                                                                                   \n \u001b[1m \u001b[0m\u001b[1mProgress                 \u001b[0m\u001b[1m \u001b[0m \u001b[1m \u001b[0m\u001b[1mDraws\u001b[0m\u001b[1m \u001b[0m \u001b[1m \u001b[0m\u001b[1mDivergences\u001b[0m\u001b[1m \u001b[0m \u001b[1m \u001b[0m\u001b[1mStep size\u001b[0m\u001b[1m \u001b[0m \u001b[1m \u001b[0m\u001b[1mGrad evals\u001b[0m\u001b[1m \u001b[0m \u001b[1m \u001b[0m\u001b[1mSampling Speed\u001b[0m\u001b[1m \u001b[0m \u001b[1m \u001b[0m\u001b[1mElapsed\u001b[0m\u001b[1m \u001b[0m \u001b[1m \u001b[0m\u001b[1mRemaining\u001b[0m\u001b[1m \u001b[0m \n ───────────────────────────────────────────────────────────────────────────────────────────────────────────────── \n  \u001b[38;2;31;119;180m━━━━━━━━━━━━━━━━━━━━━━━━━\u001b[0m   2000    0             0.73        7            900.83 draws/s   0:00:02   0:00:00    \n  \u001b[38;2;31;119;180m━━━━━━━━━━━━━━━━━━━━━━━━━\u001b[0m   2000    0             0.67        7            445.61 draws/s   0:00:04   0:00:00    \n                                                                                                                   \n",
                  "text/html": "<pre style=\"white-space:pre;overflow-x:auto;line-height:normal;font-family:Menlo,'DejaVu Sans Mono',consolas,'Courier New',monospace\">                                                                                                                   \n <span style=\"font-weight: bold\"> Progress                  </span> <span style=\"font-weight: bold\"> Draws </span> <span style=\"font-weight: bold\"> Divergences </span> <span style=\"font-weight: bold\"> Step size </span> <span style=\"font-weight: bold\"> Grad evals </span> <span style=\"font-weight: bold\"> Sampling Speed </span> <span style=\"font-weight: bold\"> Elapsed </span> <span style=\"font-weight: bold\"> Remaining </span> \n ───────────────────────────────────────────────────────────────────────────────────────────────────────────────── \n  <span style=\"color: #1f77b4; text-decoration-color: #1f77b4\">━━━━━━━━━━━━━━━━━━━━━━━━━</span>   2000    0             0.73        7            900.83 draws/s   0:00:02   0:00:00    \n  <span style=\"color: #1f77b4; text-decoration-color: #1f77b4\">━━━━━━━━━━━━━━━━━━━━━━━━━</span>   2000    0             0.67        7            445.61 draws/s   0:00:04   0:00:00    \n                                                                                                                   \n</pre>\n"
                },
                "metadata": {}
              }
            ]
          }
        },
        "20ada4a3d9584aee891ecc8565e4d4dc": {
          "model_module": "@jupyter-widgets/base",
          "model_name": "LayoutModel",
          "model_module_version": "1.2.0",
          "state": {
            "_model_module": "@jupyter-widgets/base",
            "_model_module_version": "1.2.0",
            "_model_name": "LayoutModel",
            "_view_count": null,
            "_view_module": "@jupyter-widgets/base",
            "_view_module_version": "1.2.0",
            "_view_name": "LayoutView",
            "align_content": null,
            "align_items": null,
            "align_self": null,
            "border": null,
            "bottom": null,
            "display": null,
            "flex": null,
            "flex_flow": null,
            "grid_area": null,
            "grid_auto_columns": null,
            "grid_auto_flow": null,
            "grid_auto_rows": null,
            "grid_column": null,
            "grid_gap": null,
            "grid_row": null,
            "grid_template_areas": null,
            "grid_template_columns": null,
            "grid_template_rows": null,
            "height": null,
            "justify_content": null,
            "justify_items": null,
            "left": null,
            "margin": null,
            "max_height": null,
            "max_width": null,
            "min_height": null,
            "min_width": null,
            "object_fit": null,
            "object_position": null,
            "order": null,
            "overflow": null,
            "overflow_x": null,
            "overflow_y": null,
            "padding": null,
            "right": null,
            "top": null,
            "visibility": null,
            "width": null
          }
        },
        "855ddc7a038e4c88bc6fd3248ed409aa": {
          "model_module": "@jupyter-widgets/output",
          "model_name": "OutputModel",
          "model_module_version": "1.0.0",
          "state": {
            "_dom_classes": [],
            "_model_module": "@jupyter-widgets/output",
            "_model_module_version": "1.0.0",
            "_model_name": "OutputModel",
            "_view_count": null,
            "_view_module": "@jupyter-widgets/output",
            "_view_module_version": "1.0.0",
            "_view_name": "OutputView",
            "layout": "IPY_MODEL_b18fe354c37c4f7783dff62601d8c672",
            "msg_id": "",
            "outputs": [
              {
                "output_type": "display_data",
                "data": {
                  "text/plain": "                                                                                                                   \n \u001b[1m \u001b[0m\u001b[1mProgress                 \u001b[0m\u001b[1m \u001b[0m \u001b[1m \u001b[0m\u001b[1mDraws\u001b[0m\u001b[1m \u001b[0m \u001b[1m \u001b[0m\u001b[1mDivergences\u001b[0m\u001b[1m \u001b[0m \u001b[1m \u001b[0m\u001b[1mStep size\u001b[0m\u001b[1m \u001b[0m \u001b[1m \u001b[0m\u001b[1mGrad evals\u001b[0m\u001b[1m \u001b[0m \u001b[1m \u001b[0m\u001b[1mSampling Speed\u001b[0m\u001b[1m \u001b[0m \u001b[1m \u001b[0m\u001b[1mElapsed\u001b[0m\u001b[1m \u001b[0m \u001b[1m \u001b[0m\u001b[1mRemaining\u001b[0m\u001b[1m \u001b[0m \n ───────────────────────────────────────────────────────────────────────────────────────────────────────────────── \n  \u001b[38;2;31;119;180m━━━━━━━━━━━━━━━━━━━━━━━━━\u001b[0m   2000    0             1.00        7            768.25 draws/s   0:00:02   0:00:00    \n  \u001b[38;2;31;119;180m━━━━━━━━━━━━━━━━━━━━━━━━━\u001b[0m   2000    0             0.92        7            361.29 draws/s   0:00:05   0:00:00    \n                                                                                                                   \n",
                  "text/html": "<pre style=\"white-space:pre;overflow-x:auto;line-height:normal;font-family:Menlo,'DejaVu Sans Mono',consolas,'Courier New',monospace\">                                                                                                                   \n <span style=\"font-weight: bold\"> Progress                  </span> <span style=\"font-weight: bold\"> Draws </span> <span style=\"font-weight: bold\"> Divergences </span> <span style=\"font-weight: bold\"> Step size </span> <span style=\"font-weight: bold\"> Grad evals </span> <span style=\"font-weight: bold\"> Sampling Speed </span> <span style=\"font-weight: bold\"> Elapsed </span> <span style=\"font-weight: bold\"> Remaining </span> \n ───────────────────────────────────────────────────────────────────────────────────────────────────────────────── \n  <span style=\"color: #1f77b4; text-decoration-color: #1f77b4\">━━━━━━━━━━━━━━━━━━━━━━━━━</span>   2000    0             1.00        7            768.25 draws/s   0:00:02   0:00:00    \n  <span style=\"color: #1f77b4; text-decoration-color: #1f77b4\">━━━━━━━━━━━━━━━━━━━━━━━━━</span>   2000    0             0.92        7            361.29 draws/s   0:00:05   0:00:00    \n                                                                                                                   \n</pre>\n"
                },
                "metadata": {}
              }
            ]
          }
        },
        "b18fe354c37c4f7783dff62601d8c672": {
          "model_module": "@jupyter-widgets/base",
          "model_name": "LayoutModel",
          "model_module_version": "1.2.0",
          "state": {
            "_model_module": "@jupyter-widgets/base",
            "_model_module_version": "1.2.0",
            "_model_name": "LayoutModel",
            "_view_count": null,
            "_view_module": "@jupyter-widgets/base",
            "_view_module_version": "1.2.0",
            "_view_name": "LayoutView",
            "align_content": null,
            "align_items": null,
            "align_self": null,
            "border": null,
            "bottom": null,
            "display": null,
            "flex": null,
            "flex_flow": null,
            "grid_area": null,
            "grid_auto_columns": null,
            "grid_auto_flow": null,
            "grid_auto_rows": null,
            "grid_column": null,
            "grid_gap": null,
            "grid_row": null,
            "grid_template_areas": null,
            "grid_template_columns": null,
            "grid_template_rows": null,
            "height": null,
            "justify_content": null,
            "justify_items": null,
            "left": null,
            "margin": null,
            "max_height": null,
            "max_width": null,
            "min_height": null,
            "min_width": null,
            "object_fit": null,
            "object_position": null,
            "order": null,
            "overflow": null,
            "overflow_x": null,
            "overflow_y": null,
            "padding": null,
            "right": null,
            "top": null,
            "visibility": null,
            "width": null
          }
        },
        "461a6bd73df3417e8eb88596c56e5052": {
          "model_module": "@jupyter-widgets/output",
          "model_name": "OutputModel",
          "model_module_version": "1.0.0",
          "state": {
            "_dom_classes": [],
            "_model_module": "@jupyter-widgets/output",
            "_model_module_version": "1.0.0",
            "_model_name": "OutputModel",
            "_view_count": null,
            "_view_module": "@jupyter-widgets/output",
            "_view_module_version": "1.0.0",
            "_view_name": "OutputView",
            "layout": "IPY_MODEL_740f2b7303e74b9bba7912326a57d354",
            "msg_id": "",
            "outputs": [
              {
                "output_type": "display_data",
                "data": {
                  "text/plain": "                                                                                                                   \n \u001b[1m \u001b[0m\u001b[1mProgress                 \u001b[0m\u001b[1m \u001b[0m \u001b[1m \u001b[0m\u001b[1mDraws\u001b[0m\u001b[1m \u001b[0m \u001b[1m \u001b[0m\u001b[1mDivergences\u001b[0m\u001b[1m \u001b[0m \u001b[1m \u001b[0m\u001b[1mStep size\u001b[0m\u001b[1m \u001b[0m \u001b[1m \u001b[0m\u001b[1mGrad evals\u001b[0m\u001b[1m \u001b[0m \u001b[1m \u001b[0m\u001b[1mSampling Speed\u001b[0m\u001b[1m \u001b[0m \u001b[1m \u001b[0m\u001b[1mElapsed\u001b[0m\u001b[1m \u001b[0m \u001b[1m \u001b[0m\u001b[1mRemaining\u001b[0m\u001b[1m \u001b[0m \n ───────────────────────────────────────────────────────────────────────────────────────────────────────────────── \n  \u001b[38;2;31;119;180m━━━━━━━━━━━━━━━━━━━━━━━━━\u001b[0m   2000    0             0.25        15           316.52 draws/s   0:00:06   0:00:00    \n  \u001b[38;2;31;119;180m━━━━━━━━━━━━━━━━━━━━━━━━━\u001b[0m   2000    0             0.22        15           166.80 draws/s   0:00:11   0:00:00    \n                                                                                                                   \n",
                  "text/html": "<pre style=\"white-space:pre;overflow-x:auto;line-height:normal;font-family:Menlo,'DejaVu Sans Mono',consolas,'Courier New',monospace\">                                                                                                                   \n <span style=\"font-weight: bold\"> Progress                  </span> <span style=\"font-weight: bold\"> Draws </span> <span style=\"font-weight: bold\"> Divergences </span> <span style=\"font-weight: bold\"> Step size </span> <span style=\"font-weight: bold\"> Grad evals </span> <span style=\"font-weight: bold\"> Sampling Speed </span> <span style=\"font-weight: bold\"> Elapsed </span> <span style=\"font-weight: bold\"> Remaining </span> \n ───────────────────────────────────────────────────────────────────────────────────────────────────────────────── \n  <span style=\"color: #1f77b4; text-decoration-color: #1f77b4\">━━━━━━━━━━━━━━━━━━━━━━━━━</span>   2000    0             0.25        15           316.52 draws/s   0:00:06   0:00:00    \n  <span style=\"color: #1f77b4; text-decoration-color: #1f77b4\">━━━━━━━━━━━━━━━━━━━━━━━━━</span>   2000    0             0.22        15           166.80 draws/s   0:00:11   0:00:00    \n                                                                                                                   \n</pre>\n"
                },
                "metadata": {}
              }
            ]
          }
        },
        "740f2b7303e74b9bba7912326a57d354": {
          "model_module": "@jupyter-widgets/base",
          "model_name": "LayoutModel",
          "model_module_version": "1.2.0",
          "state": {
            "_model_module": "@jupyter-widgets/base",
            "_model_module_version": "1.2.0",
            "_model_name": "LayoutModel",
            "_view_count": null,
            "_view_module": "@jupyter-widgets/base",
            "_view_module_version": "1.2.0",
            "_view_name": "LayoutView",
            "align_content": null,
            "align_items": null,
            "align_self": null,
            "border": null,
            "bottom": null,
            "display": null,
            "flex": null,
            "flex_flow": null,
            "grid_area": null,
            "grid_auto_columns": null,
            "grid_auto_flow": null,
            "grid_auto_rows": null,
            "grid_column": null,
            "grid_gap": null,
            "grid_row": null,
            "grid_template_areas": null,
            "grid_template_columns": null,
            "grid_template_rows": null,
            "height": null,
            "justify_content": null,
            "justify_items": null,
            "left": null,
            "margin": null,
            "max_height": null,
            "max_width": null,
            "min_height": null,
            "min_width": null,
            "object_fit": null,
            "object_position": null,
            "order": null,
            "overflow": null,
            "overflow_x": null,
            "overflow_y": null,
            "padding": null,
            "right": null,
            "top": null,
            "visibility": null,
            "width": null
          }
        },
        "3246fbb53e4c487fa80bd3f685f5998f": {
          "model_module": "@jupyter-widgets/output",
          "model_name": "OutputModel",
          "model_module_version": "1.0.0",
          "state": {
            "_dom_classes": [],
            "_model_module": "@jupyter-widgets/output",
            "_model_module_version": "1.0.0",
            "_model_name": "OutputModel",
            "_view_count": null,
            "_view_module": "@jupyter-widgets/output",
            "_view_module_version": "1.0.0",
            "_view_name": "OutputView",
            "layout": "IPY_MODEL_acfbebfd4347476e935c098a68b82eac",
            "msg_id": "",
            "outputs": [
              {
                "output_type": "display_data",
                "data": {
                  "text/plain": "                                                                                                                   \n \u001b[1m \u001b[0m\u001b[1mProgress                 \u001b[0m\u001b[1m \u001b[0m \u001b[1m \u001b[0m\u001b[1mDraws\u001b[0m\u001b[1m \u001b[0m \u001b[1m \u001b[0m\u001b[1mDivergences\u001b[0m\u001b[1m \u001b[0m \u001b[1m \u001b[0m\u001b[1mStep size\u001b[0m\u001b[1m \u001b[0m \u001b[1m \u001b[0m\u001b[1mGrad evals\u001b[0m\u001b[1m \u001b[0m \u001b[1m \u001b[0m\u001b[1mSampling Speed\u001b[0m\u001b[1m \u001b[0m \u001b[1m \u001b[0m\u001b[1mElapsed\u001b[0m\u001b[1m \u001b[0m \u001b[1m \u001b[0m\u001b[1mRemaining\u001b[0m\u001b[1m \u001b[0m \n ───────────────────────────────────────────────────────────────────────────────────────────────────────────────── \n  \u001b[38;2;31;119;180m━━━━━━━━━━━━━━━━━━━━━━━━━\u001b[0m   2000    0             0.20        15           355.54 draws/s   0:00:05   0:00:00    \n  \u001b[38;2;31;119;180m━━━━━━━━━━━━━━━━━━━━━━━━━\u001b[0m   2000    0             0.24        23           162.39 draws/s   0:00:12   0:00:00    \n                                                                                                                   \n",
                  "text/html": "<pre style=\"white-space:pre;overflow-x:auto;line-height:normal;font-family:Menlo,'DejaVu Sans Mono',consolas,'Courier New',monospace\">                                                                                                                   \n <span style=\"font-weight: bold\"> Progress                  </span> <span style=\"font-weight: bold\"> Draws </span> <span style=\"font-weight: bold\"> Divergences </span> <span style=\"font-weight: bold\"> Step size </span> <span style=\"font-weight: bold\"> Grad evals </span> <span style=\"font-weight: bold\"> Sampling Speed </span> <span style=\"font-weight: bold\"> Elapsed </span> <span style=\"font-weight: bold\"> Remaining </span> \n ───────────────────────────────────────────────────────────────────────────────────────────────────────────────── \n  <span style=\"color: #1f77b4; text-decoration-color: #1f77b4\">━━━━━━━━━━━━━━━━━━━━━━━━━</span>   2000    0             0.20        15           355.54 draws/s   0:00:05   0:00:00    \n  <span style=\"color: #1f77b4; text-decoration-color: #1f77b4\">━━━━━━━━━━━━━━━━━━━━━━━━━</span>   2000    0             0.24        23           162.39 draws/s   0:00:12   0:00:00    \n                                                                                                                   \n</pre>\n"
                },
                "metadata": {}
              }
            ]
          }
        },
        "acfbebfd4347476e935c098a68b82eac": {
          "model_module": "@jupyter-widgets/base",
          "model_name": "LayoutModel",
          "model_module_version": "1.2.0",
          "state": {
            "_model_module": "@jupyter-widgets/base",
            "_model_module_version": "1.2.0",
            "_model_name": "LayoutModel",
            "_view_count": null,
            "_view_module": "@jupyter-widgets/base",
            "_view_module_version": "1.2.0",
            "_view_name": "LayoutView",
            "align_content": null,
            "align_items": null,
            "align_self": null,
            "border": null,
            "bottom": null,
            "display": null,
            "flex": null,
            "flex_flow": null,
            "grid_area": null,
            "grid_auto_columns": null,
            "grid_auto_flow": null,
            "grid_auto_rows": null,
            "grid_column": null,
            "grid_gap": null,
            "grid_row": null,
            "grid_template_areas": null,
            "grid_template_columns": null,
            "grid_template_rows": null,
            "height": null,
            "justify_content": null,
            "justify_items": null,
            "left": null,
            "margin": null,
            "max_height": null,
            "max_width": null,
            "min_height": null,
            "min_width": null,
            "object_fit": null,
            "object_position": null,
            "order": null,
            "overflow": null,
            "overflow_x": null,
            "overflow_y": null,
            "padding": null,
            "right": null,
            "top": null,
            "visibility": null,
            "width": null
          }
        },
        "16c5d0fdb4904f26b53c96dae5290179": {
          "model_module": "@jupyter-widgets/output",
          "model_name": "OutputModel",
          "model_module_version": "1.0.0",
          "state": {
            "_dom_classes": [],
            "_model_module": "@jupyter-widgets/output",
            "_model_module_version": "1.0.0",
            "_model_name": "OutputModel",
            "_view_count": null,
            "_view_module": "@jupyter-widgets/output",
            "_view_module_version": "1.0.0",
            "_view_name": "OutputView",
            "layout": "IPY_MODEL_08817bd3897e48cdbdffe9c33dbafb55",
            "msg_id": "",
            "outputs": [
              {
                "output_type": "display_data",
                "data": {
                  "text/plain": "                                                                                                                   \n \u001b[1m \u001b[0m\u001b[1mProgress                 \u001b[0m\u001b[1m \u001b[0m \u001b[1m \u001b[0m\u001b[1mDraws\u001b[0m\u001b[1m \u001b[0m \u001b[1m \u001b[0m\u001b[1mDivergences\u001b[0m\u001b[1m \u001b[0m \u001b[1m \u001b[0m\u001b[1mStep size\u001b[0m\u001b[1m \u001b[0m \u001b[1m \u001b[0m\u001b[1mGrad evals\u001b[0m\u001b[1m \u001b[0m \u001b[1m \u001b[0m\u001b[1mSampling Speed\u001b[0m\u001b[1m \u001b[0m \u001b[1m \u001b[0m\u001b[1mElapsed\u001b[0m\u001b[1m \u001b[0m \u001b[1m \u001b[0m\u001b[1mRemaining\u001b[0m\u001b[1m \u001b[0m \n ───────────────────────────────────────────────────────────────────────────────────────────────────────────────── \n  \u001b[38;2;31;119;180m━━━━━━━━━━━━━━━━━━━━━━━━━\u001b[0m   2000    0             0.36        15           300.68 draws/s   0:00:06   0:00:00    \n  \u001b[38;2;31;119;180m━━━━━━━━━━━━━━━━━━━━━━━━━\u001b[0m   2000    0             0.34        7            132.74 draws/s   0:00:15   0:00:00    \n                                                                                                                   \n",
                  "text/html": "<pre style=\"white-space:pre;overflow-x:auto;line-height:normal;font-family:Menlo,'DejaVu Sans Mono',consolas,'Courier New',monospace\">                                                                                                                   \n <span style=\"font-weight: bold\"> Progress                  </span> <span style=\"font-weight: bold\"> Draws </span> <span style=\"font-weight: bold\"> Divergences </span> <span style=\"font-weight: bold\"> Step size </span> <span style=\"font-weight: bold\"> Grad evals </span> <span style=\"font-weight: bold\"> Sampling Speed </span> <span style=\"font-weight: bold\"> Elapsed </span> <span style=\"font-weight: bold\"> Remaining </span> \n ───────────────────────────────────────────────────────────────────────────────────────────────────────────────── \n  <span style=\"color: #1f77b4; text-decoration-color: #1f77b4\">━━━━━━━━━━━━━━━━━━━━━━━━━</span>   2000    0             0.36        15           300.68 draws/s   0:00:06   0:00:00    \n  <span style=\"color: #1f77b4; text-decoration-color: #1f77b4\">━━━━━━━━━━━━━━━━━━━━━━━━━</span>   2000    0             0.34        7            132.74 draws/s   0:00:15   0:00:00    \n                                                                                                                   \n</pre>\n"
                },
                "metadata": {}
              }
            ]
          }
        },
        "08817bd3897e48cdbdffe9c33dbafb55": {
          "model_module": "@jupyter-widgets/base",
          "model_name": "LayoutModel",
          "model_module_version": "1.2.0",
          "state": {
            "_model_module": "@jupyter-widgets/base",
            "_model_module_version": "1.2.0",
            "_model_name": "LayoutModel",
            "_view_count": null,
            "_view_module": "@jupyter-widgets/base",
            "_view_module_version": "1.2.0",
            "_view_name": "LayoutView",
            "align_content": null,
            "align_items": null,
            "align_self": null,
            "border": null,
            "bottom": null,
            "display": null,
            "flex": null,
            "flex_flow": null,
            "grid_area": null,
            "grid_auto_columns": null,
            "grid_auto_flow": null,
            "grid_auto_rows": null,
            "grid_column": null,
            "grid_gap": null,
            "grid_row": null,
            "grid_template_areas": null,
            "grid_template_columns": null,
            "grid_template_rows": null,
            "height": null,
            "justify_content": null,
            "justify_items": null,
            "left": null,
            "margin": null,
            "max_height": null,
            "max_width": null,
            "min_height": null,
            "min_width": null,
            "object_fit": null,
            "object_position": null,
            "order": null,
            "overflow": null,
            "overflow_x": null,
            "overflow_y": null,
            "padding": null,
            "right": null,
            "top": null,
            "visibility": null,
            "width": null
          }
        }
      }
    }
  },
  "cells": [
    {
      "cell_type": "markdown",
      "metadata": {
        "id": "view-in-github",
        "colab_type": "text"
      },
      "source": [
        "<a href=\"https://colab.research.google.com/github/lillianpoland/hi-class/blob/main/LillPolaU7Project.ipynb\" target=\"_parent\"><img src=\"https://colab.research.google.com/assets/colab-badge.svg\" alt=\"Open In Colab\"/></a>"
      ]
    },
    {
      "cell_type": "markdown",
      "source": [
        "# Unit 7 Project: Polynomials, Splines, and GPs, Oh my!\n",
        "\n"
      ],
      "metadata": {
        "id": "hIWO5hU4NeAg"
      }
    },
    {
      "cell_type": "markdown",
      "source": [
        "##Context"
      ],
      "metadata": {
        "id": "armp3icN7D45"
      }
    },
    {
      "cell_type": "markdown",
      "source": [
        "Penguins are really cool and cute birds. They live in cold environments and have adapted to this environment through their thick blubber, which provides insulation. Their blubber and body mass changes significantly due to external factors such as diet, habitat, and predators who force them to swim away faster and get buff. These outside factors impact flipper length, bill depth, and bill length which I hypothesize will have the most impact on body mass.\n",
        "![images.jpg](data:image/jpeg;base64,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)"
      ],
      "metadata": {
        "id": "eM0HY8JANioT"
      }
    },
    {
      "cell_type": "code",
      "source": [
        "!pip install preliz\n",
        "!pip install bambi"
      ],
      "metadata": {
        "colab": {
          "base_uri": "https://localhost:8080/"
        },
        "collapsed": true,
        "id": "r00yPE4XPgo1",
        "outputId": "34318878-6465-40af-9ad2-cd5acef90195"
      },
      "execution_count": null,
      "outputs": [
        {
          "output_type": "stream",
          "name": "stdout",
          "text": [
            "Collecting preliz\n",
            "  Downloading preliz-0.15.0-py3-none-any.whl.metadata (6.1 kB)\n",
            "Requirement already satisfied: matplotlib>=3.7 in /usr/local/lib/python3.11/dist-packages (from preliz) (3.10.0)\n",
            "Requirement already satisfied: numba>=0.59 in /usr/local/lib/python3.11/dist-packages (from preliz) (0.61.0)\n",
            "Requirement already satisfied: numpy>=1.24 in /usr/local/lib/python3.11/dist-packages (from preliz) (1.26.4)\n",
            "Collecting scipy<1.13,>=1.10 (from preliz)\n",
            "  Downloading scipy-1.12.0-cp311-cp311-manylinux_2_17_x86_64.manylinux2014_x86_64.whl.metadata (60 kB)\n",
            "\u001b[2K     \u001b[90m━━━━━━━━━━━━━━━━━━━━━━━━━━━━━━━━━━━━━━━━\u001b[0m \u001b[32m60.4/60.4 kB\u001b[0m \u001b[31m978.8 kB/s\u001b[0m eta \u001b[36m0:00:00\u001b[0m\n",
            "\u001b[?25hRequirement already satisfied: contourpy>=1.0.1 in /usr/local/lib/python3.11/dist-packages (from matplotlib>=3.7->preliz) (1.3.1)\n",
            "Requirement already satisfied: cycler>=0.10 in /usr/local/lib/python3.11/dist-packages (from matplotlib>=3.7->preliz) (0.12.1)\n",
            "Requirement already satisfied: fonttools>=4.22.0 in /usr/local/lib/python3.11/dist-packages (from matplotlib>=3.7->preliz) (4.56.0)\n",
            "Requirement already satisfied: kiwisolver>=1.3.1 in /usr/local/lib/python3.11/dist-packages (from matplotlib>=3.7->preliz) (1.4.8)\n",
            "Requirement already satisfied: packaging>=20.0 in /usr/local/lib/python3.11/dist-packages (from matplotlib>=3.7->preliz) (24.2)\n",
            "Requirement already satisfied: pillow>=8 in /usr/local/lib/python3.11/dist-packages (from matplotlib>=3.7->preliz) (11.1.0)\n",
            "Requirement already satisfied: pyparsing>=2.3.1 in /usr/local/lib/python3.11/dist-packages (from matplotlib>=3.7->preliz) (3.2.1)\n",
            "Requirement already satisfied: python-dateutil>=2.7 in /usr/local/lib/python3.11/dist-packages (from matplotlib>=3.7->preliz) (2.8.2)\n",
            "Requirement already satisfied: llvmlite<0.45,>=0.44.0dev0 in /usr/local/lib/python3.11/dist-packages (from numba>=0.59->preliz) (0.44.0)\n",
            "Requirement already satisfied: six>=1.5 in /usr/local/lib/python3.11/dist-packages (from python-dateutil>=2.7->matplotlib>=3.7->preliz) (1.17.0)\n",
            "Downloading preliz-0.15.0-py3-none-any.whl (517 kB)\n",
            "\u001b[2K   \u001b[90m━━━━━━━━━━━━━━━━━━━━━━━━━━━━━━━━━━━━━━━━\u001b[0m \u001b[32m517.1/517.1 kB\u001b[0m \u001b[31m5.8 MB/s\u001b[0m eta \u001b[36m0:00:00\u001b[0m\n",
            "\u001b[?25hDownloading scipy-1.12.0-cp311-cp311-manylinux_2_17_x86_64.manylinux2014_x86_64.whl (38.4 MB)\n",
            "\u001b[2K   \u001b[90m━━━━━━━━━━━━━━━━━━━━━━━━━━━━━━━━━━━━━━━━\u001b[0m \u001b[32m38.4/38.4 MB\u001b[0m \u001b[31m11.0 MB/s\u001b[0m eta \u001b[36m0:00:00\u001b[0m\n",
            "\u001b[?25hInstalling collected packages: scipy, preliz\n",
            "  Attempting uninstall: scipy\n",
            "    Found existing installation: scipy 1.13.1\n",
            "    Uninstalling scipy-1.13.1:\n",
            "      Successfully uninstalled scipy-1.13.1\n",
            "Successfully installed preliz-0.15.0 scipy-1.12.0\n",
            "Collecting bambi\n",
            "  Downloading bambi-0.15.0-py3-none-any.whl.metadata (8.8 kB)\n",
            "Requirement already satisfied: arviz>=0.12.0 in /usr/local/lib/python3.11/dist-packages (from bambi) (0.20.0)\n",
            "Collecting formulae>=0.5.3 (from bambi)\n",
            "  Downloading formulae-0.5.4-py3-none-any.whl.metadata (4.5 kB)\n",
            "Requirement already satisfied: graphviz in /usr/local/lib/python3.11/dist-packages (from bambi) (0.20.3)\n",
            "Requirement already satisfied: pandas>=1.0.0 in /usr/local/lib/python3.11/dist-packages (from bambi) (2.2.2)\n",
            "Requirement already satisfied: pymc>=5.18.0 in /usr/local/lib/python3.11/dist-packages (from bambi) (5.20.1)\n",
            "Requirement already satisfied: setuptools>=60.0.0 in /usr/local/lib/python3.11/dist-packages (from arviz>=0.12.0->bambi) (75.1.0)\n",
            "Requirement already satisfied: matplotlib>=3.5 in /usr/local/lib/python3.11/dist-packages (from arviz>=0.12.0->bambi) (3.10.0)\n",
            "Requirement already satisfied: numpy>=1.23.0 in /usr/local/lib/python3.11/dist-packages (from arviz>=0.12.0->bambi) (1.26.4)\n",
            "Requirement already satisfied: scipy>=1.9.0 in /usr/local/lib/python3.11/dist-packages (from arviz>=0.12.0->bambi) (1.12.0)\n",
            "Requirement already satisfied: packaging in /usr/local/lib/python3.11/dist-packages (from arviz>=0.12.0->bambi) (24.2)\n",
            "Requirement already satisfied: xarray>=2022.6.0 in /usr/local/lib/python3.11/dist-packages (from arviz>=0.12.0->bambi) (2025.1.2)\n",
            "Requirement already satisfied: h5netcdf>=1.0.2 in /usr/local/lib/python3.11/dist-packages (from arviz>=0.12.0->bambi) (1.5.0)\n",
            "Requirement already satisfied: typing-extensions>=4.1.0 in /usr/local/lib/python3.11/dist-packages (from arviz>=0.12.0->bambi) (4.12.2)\n",
            "Requirement already satisfied: xarray-einstats>=0.3 in /usr/local/lib/python3.11/dist-packages (from arviz>=0.12.0->bambi) (0.8.0)\n",
            "Requirement already satisfied: python-dateutil>=2.8.2 in /usr/local/lib/python3.11/dist-packages (from pandas>=1.0.0->bambi) (2.8.2)\n",
            "Requirement already satisfied: pytz>=2020.1 in /usr/local/lib/python3.11/dist-packages (from pandas>=1.0.0->bambi) (2025.1)\n",
            "Requirement already satisfied: tzdata>=2022.7 in /usr/local/lib/python3.11/dist-packages (from pandas>=1.0.0->bambi) (2025.1)\n",
            "Requirement already satisfied: cachetools>=4.2.1 in /usr/local/lib/python3.11/dist-packages (from pymc>=5.18.0->bambi) (5.5.2)\n",
            "Requirement already satisfied: cloudpickle in /usr/local/lib/python3.11/dist-packages (from pymc>=5.18.0->bambi) (3.1.1)\n",
            "Requirement already satisfied: pytensor<2.28,>=2.26.1 in /usr/local/lib/python3.11/dist-packages (from pymc>=5.18.0->bambi) (2.27.1)\n",
            "Requirement already satisfied: rich>=13.7.1 in /usr/local/lib/python3.11/dist-packages (from pymc>=5.18.0->bambi) (13.9.4)\n",
            "Requirement already satisfied: threadpoolctl<4.0.0,>=3.1.0 in /usr/local/lib/python3.11/dist-packages (from pymc>=5.18.0->bambi) (3.5.0)\n",
            "Requirement already satisfied: h5py in /usr/local/lib/python3.11/dist-packages (from h5netcdf>=1.0.2->arviz>=0.12.0->bambi) (3.12.1)\n",
            "Requirement already satisfied: contourpy>=1.0.1 in /usr/local/lib/python3.11/dist-packages (from matplotlib>=3.5->arviz>=0.12.0->bambi) (1.3.1)\n",
            "Requirement already satisfied: cycler>=0.10 in /usr/local/lib/python3.11/dist-packages (from matplotlib>=3.5->arviz>=0.12.0->bambi) (0.12.1)\n",
            "Requirement already satisfied: fonttools>=4.22.0 in /usr/local/lib/python3.11/dist-packages (from matplotlib>=3.5->arviz>=0.12.0->bambi) (4.56.0)\n",
            "Requirement already satisfied: kiwisolver>=1.3.1 in /usr/local/lib/python3.11/dist-packages (from matplotlib>=3.5->arviz>=0.12.0->bambi) (1.4.8)\n",
            "Requirement already satisfied: pillow>=8 in /usr/local/lib/python3.11/dist-packages (from matplotlib>=3.5->arviz>=0.12.0->bambi) (11.1.0)\n",
            "Requirement already satisfied: pyparsing>=2.3.1 in /usr/local/lib/python3.11/dist-packages (from matplotlib>=3.5->arviz>=0.12.0->bambi) (3.2.1)\n",
            "Requirement already satisfied: filelock>=3.15 in /usr/local/lib/python3.11/dist-packages (from pytensor<2.28,>=2.26.1->pymc>=5.18.0->bambi) (3.17.0)\n",
            "Requirement already satisfied: etuples in /usr/local/lib/python3.11/dist-packages (from pytensor<2.28,>=2.26.1->pymc>=5.18.0->bambi) (0.3.9)\n",
            "Requirement already satisfied: logical-unification in /usr/local/lib/python3.11/dist-packages (from pytensor<2.28,>=2.26.1->pymc>=5.18.0->bambi) (0.4.6)\n",
            "Requirement already satisfied: miniKanren in /usr/local/lib/python3.11/dist-packages (from pytensor<2.28,>=2.26.1->pymc>=5.18.0->bambi) (1.0.3)\n",
            "Requirement already satisfied: cons in /usr/local/lib/python3.11/dist-packages (from pytensor<2.28,>=2.26.1->pymc>=5.18.0->bambi) (0.4.6)\n",
            "Requirement already satisfied: six>=1.5 in /usr/local/lib/python3.11/dist-packages (from python-dateutil>=2.8.2->pandas>=1.0.0->bambi) (1.17.0)\n",
            "Requirement already satisfied: markdown-it-py>=2.2.0 in /usr/local/lib/python3.11/dist-packages (from rich>=13.7.1->pymc>=5.18.0->bambi) (3.0.0)\n",
            "Requirement already satisfied: pygments<3.0.0,>=2.13.0 in /usr/local/lib/python3.11/dist-packages (from rich>=13.7.1->pymc>=5.18.0->bambi) (2.18.0)\n",
            "Requirement already satisfied: mdurl~=0.1 in /usr/local/lib/python3.11/dist-packages (from markdown-it-py>=2.2.0->rich>=13.7.1->pymc>=5.18.0->bambi) (0.1.2)\n",
            "Requirement already satisfied: toolz in /usr/local/lib/python3.11/dist-packages (from logical-unification->pytensor<2.28,>=2.26.1->pymc>=5.18.0->bambi) (0.12.1)\n",
            "Requirement already satisfied: multipledispatch in /usr/local/lib/python3.11/dist-packages (from logical-unification->pytensor<2.28,>=2.26.1->pymc>=5.18.0->bambi) (1.0.0)\n",
            "Downloading bambi-0.15.0-py3-none-any.whl (109 kB)\n",
            "\u001b[2K   \u001b[90m━━━━━━━━━━━━━━━━━━━━━━━━━━━━━━━━━━━━━━━━\u001b[0m \u001b[32m109.2/109.2 kB\u001b[0m \u001b[31m2.8 MB/s\u001b[0m eta \u001b[36m0:00:00\u001b[0m\n",
            "\u001b[?25hDownloading formulae-0.5.4-py3-none-any.whl (53 kB)\n",
            "\u001b[2K   \u001b[90m━━━━━━━━━━━━━━━━━━━━━━━━━━━━━━━━━━━━━━━━\u001b[0m \u001b[32m53.7/53.7 kB\u001b[0m \u001b[31m3.9 MB/s\u001b[0m eta \u001b[36m0:00:00\u001b[0m\n",
            "\u001b[?25hInstalling collected packages: formulae, bambi\n",
            "Successfully installed bambi-0.15.0 formulae-0.5.4\n"
          ]
        }
      ]
    },
    {
      "cell_type": "code",
      "source": [
        "import numpy as np\n",
        "import pandas as pd\n",
        "import arviz as az\n",
        "import pymc as pm\n",
        "import matplotlib.pyplot as plt\n",
        "import xarray as xr\n",
        "import bambi as bmb"
      ],
      "metadata": {
        "id": "rE_k7Kk8PT8M"
      },
      "execution_count": null,
      "outputs": []
    },
    {
      "cell_type": "code",
      "source": [
        "Penguins = pd.read_csv('https://raw.githubusercontent.com/thedarredondo/data-science-fundamentals/refs/heads/main/Data/penguins.csv').dropna()"
      ],
      "metadata": {
        "id": "wOJajWM4PXx5"
      },
      "execution_count": null,
      "outputs": []
    },
    {
      "cell_type": "code",
      "source": [
        "Penguins"
      ],
      "metadata": {
        "colab": {
          "base_uri": "https://localhost:8080/",
          "height": 424
        },
        "id": "FoIkiQ8EPbyX",
        "outputId": "70fe1c2d-9386-4ff3-fa9b-c17fe1551609"
      },
      "execution_count": null,
      "outputs": [
        {
          "output_type": "execute_result",
          "data": {
            "text/plain": [
              "       species     island  bill_length  bill_depth  flipper_length  body_mass  \\\n",
              "0       Adelie  Torgersen         3.91        1.87            18.1      3.750   \n",
              "1       Adelie  Torgersen         3.95        1.74            18.6      3.800   \n",
              "2       Adelie  Torgersen         4.03        1.80            19.5      3.250   \n",
              "4       Adelie  Torgersen         3.67        1.93            19.3      3.450   \n",
              "5       Adelie  Torgersen         3.93        2.06            19.0      3.650   \n",
              "..         ...        ...          ...         ...             ...        ...   \n",
              "339  Chinstrap      Dream         5.58        1.98            20.7      4.000   \n",
              "340  Chinstrap      Dream         4.35        1.81            20.2      3.400   \n",
              "341  Chinstrap      Dream         4.96        1.82            19.3      3.775   \n",
              "342  Chinstrap      Dream         5.08        1.90            21.0      4.100   \n",
              "343  Chinstrap      Dream         5.02        1.87            19.8      3.775   \n",
              "\n",
              "        sex  year  \n",
              "0      male  2007  \n",
              "1    female  2007  \n",
              "2    female  2007  \n",
              "4    female  2007  \n",
              "5      male  2007  \n",
              "..      ...   ...  \n",
              "339    male  2009  \n",
              "340  female  2009  \n",
              "341    male  2009  \n",
              "342    male  2009  \n",
              "343  female  2009  \n",
              "\n",
              "[333 rows x 8 columns]"
            ],
            "text/html": [
              "\n",
              "  <div id=\"df-13f10bfd-21fc-4dcc-aedb-bfe5a67edbc5\" class=\"colab-df-container\">\n",
              "    <div>\n",
              "<style scoped>\n",
              "    .dataframe tbody tr th:only-of-type {\n",
              "        vertical-align: middle;\n",
              "    }\n",
              "\n",
              "    .dataframe tbody tr th {\n",
              "        vertical-align: top;\n",
              "    }\n",
              "\n",
              "    .dataframe thead th {\n",
              "        text-align: right;\n",
              "    }\n",
              "</style>\n",
              "<table border=\"1\" class=\"dataframe\">\n",
              "  <thead>\n",
              "    <tr style=\"text-align: right;\">\n",
              "      <th></th>\n",
              "      <th>species</th>\n",
              "      <th>island</th>\n",
              "      <th>bill_length</th>\n",
              "      <th>bill_depth</th>\n",
              "      <th>flipper_length</th>\n",
              "      <th>body_mass</th>\n",
              "      <th>sex</th>\n",
              "      <th>year</th>\n",
              "    </tr>\n",
              "  </thead>\n",
              "  <tbody>\n",
              "    <tr>\n",
              "      <th>0</th>\n",
              "      <td>Adelie</td>\n",
              "      <td>Torgersen</td>\n",
              "      <td>3.91</td>\n",
              "      <td>1.87</td>\n",
              "      <td>18.1</td>\n",
              "      <td>3.750</td>\n",
              "      <td>male</td>\n",
              "      <td>2007</td>\n",
              "    </tr>\n",
              "    <tr>\n",
              "      <th>1</th>\n",
              "      <td>Adelie</td>\n",
              "      <td>Torgersen</td>\n",
              "      <td>3.95</td>\n",
              "      <td>1.74</td>\n",
              "      <td>18.6</td>\n",
              "      <td>3.800</td>\n",
              "      <td>female</td>\n",
              "      <td>2007</td>\n",
              "    </tr>\n",
              "    <tr>\n",
              "      <th>2</th>\n",
              "      <td>Adelie</td>\n",
              "      <td>Torgersen</td>\n",
              "      <td>4.03</td>\n",
              "      <td>1.80</td>\n",
              "      <td>19.5</td>\n",
              "      <td>3.250</td>\n",
              "      <td>female</td>\n",
              "      <td>2007</td>\n",
              "    </tr>\n",
              "    <tr>\n",
              "      <th>4</th>\n",
              "      <td>Adelie</td>\n",
              "      <td>Torgersen</td>\n",
              "      <td>3.67</td>\n",
              "      <td>1.93</td>\n",
              "      <td>19.3</td>\n",
              "      <td>3.450</td>\n",
              "      <td>female</td>\n",
              "      <td>2007</td>\n",
              "    </tr>\n",
              "    <tr>\n",
              "      <th>5</th>\n",
              "      <td>Adelie</td>\n",
              "      <td>Torgersen</td>\n",
              "      <td>3.93</td>\n",
              "      <td>2.06</td>\n",
              "      <td>19.0</td>\n",
              "      <td>3.650</td>\n",
              "      <td>male</td>\n",
              "      <td>2007</td>\n",
              "    </tr>\n",
              "    <tr>\n",
              "      <th>...</th>\n",
              "      <td>...</td>\n",
              "      <td>...</td>\n",
              "      <td>...</td>\n",
              "      <td>...</td>\n",
              "      <td>...</td>\n",
              "      <td>...</td>\n",
              "      <td>...</td>\n",
              "      <td>...</td>\n",
              "    </tr>\n",
              "    <tr>\n",
              "      <th>339</th>\n",
              "      <td>Chinstrap</td>\n",
              "      <td>Dream</td>\n",
              "      <td>5.58</td>\n",
              "      <td>1.98</td>\n",
              "      <td>20.7</td>\n",
              "      <td>4.000</td>\n",
              "      <td>male</td>\n",
              "      <td>2009</td>\n",
              "    </tr>\n",
              "    <tr>\n",
              "      <th>340</th>\n",
              "      <td>Chinstrap</td>\n",
              "      <td>Dream</td>\n",
              "      <td>4.35</td>\n",
              "      <td>1.81</td>\n",
              "      <td>20.2</td>\n",
              "      <td>3.400</td>\n",
              "      <td>female</td>\n",
              "      <td>2009</td>\n",
              "    </tr>\n",
              "    <tr>\n",
              "      <th>341</th>\n",
              "      <td>Chinstrap</td>\n",
              "      <td>Dream</td>\n",
              "      <td>4.96</td>\n",
              "      <td>1.82</td>\n",
              "      <td>19.3</td>\n",
              "      <td>3.775</td>\n",
              "      <td>male</td>\n",
              "      <td>2009</td>\n",
              "    </tr>\n",
              "    <tr>\n",
              "      <th>342</th>\n",
              "      <td>Chinstrap</td>\n",
              "      <td>Dream</td>\n",
              "      <td>5.08</td>\n",
              "      <td>1.90</td>\n",
              "      <td>21.0</td>\n",
              "      <td>4.100</td>\n",
              "      <td>male</td>\n",
              "      <td>2009</td>\n",
              "    </tr>\n",
              "    <tr>\n",
              "      <th>343</th>\n",
              "      <td>Chinstrap</td>\n",
              "      <td>Dream</td>\n",
              "      <td>5.02</td>\n",
              "      <td>1.87</td>\n",
              "      <td>19.8</td>\n",
              "      <td>3.775</td>\n",
              "      <td>female</td>\n",
              "      <td>2009</td>\n",
              "    </tr>\n",
              "  </tbody>\n",
              "</table>\n",
              "<p>333 rows × 8 columns</p>\n",
              "</div>\n",
              "    <div class=\"colab-df-buttons\">\n",
              "\n",
              "  <div class=\"colab-df-container\">\n",
              "    <button class=\"colab-df-convert\" onclick=\"convertToInteractive('df-13f10bfd-21fc-4dcc-aedb-bfe5a67edbc5')\"\n",
              "            title=\"Convert this dataframe to an interactive table.\"\n",
              "            style=\"display:none;\">\n",
              "\n",
              "  <svg xmlns=\"http://www.w3.org/2000/svg\" height=\"24px\" viewBox=\"0 -960 960 960\">\n",
              "    <path d=\"M120-120v-720h720v720H120Zm60-500h600v-160H180v160Zm220 220h160v-160H400v160Zm0 220h160v-160H400v160ZM180-400h160v-160H180v160Zm440 0h160v-160H620v160ZM180-180h160v-160H180v160Zm440 0h160v-160H620v160Z\"/>\n",
              "  </svg>\n",
              "    </button>\n",
              "\n",
              "  <style>\n",
              "    .colab-df-container {\n",
              "      display:flex;\n",
              "      gap: 12px;\n",
              "    }\n",
              "\n",
              "    .colab-df-convert {\n",
              "      background-color: #E8F0FE;\n",
              "      border: none;\n",
              "      border-radius: 50%;\n",
              "      cursor: pointer;\n",
              "      display: none;\n",
              "      fill: #1967D2;\n",
              "      height: 32px;\n",
              "      padding: 0 0 0 0;\n",
              "      width: 32px;\n",
              "    }\n",
              "\n",
              "    .colab-df-convert:hover {\n",
              "      background-color: #E2EBFA;\n",
              "      box-shadow: 0px 1px 2px rgba(60, 64, 67, 0.3), 0px 1px 3px 1px rgba(60, 64, 67, 0.15);\n",
              "      fill: #174EA6;\n",
              "    }\n",
              "\n",
              "    .colab-df-buttons div {\n",
              "      margin-bottom: 4px;\n",
              "    }\n",
              "\n",
              "    [theme=dark] .colab-df-convert {\n",
              "      background-color: #3B4455;\n",
              "      fill: #D2E3FC;\n",
              "    }\n",
              "\n",
              "    [theme=dark] .colab-df-convert:hover {\n",
              "      background-color: #434B5C;\n",
              "      box-shadow: 0px 1px 3px 1px rgba(0, 0, 0, 0.15);\n",
              "      filter: drop-shadow(0px 1px 2px rgba(0, 0, 0, 0.3));\n",
              "      fill: #FFFFFF;\n",
              "    }\n",
              "  </style>\n",
              "\n",
              "    <script>\n",
              "      const buttonEl =\n",
              "        document.querySelector('#df-13f10bfd-21fc-4dcc-aedb-bfe5a67edbc5 button.colab-df-convert');\n",
              "      buttonEl.style.display =\n",
              "        google.colab.kernel.accessAllowed ? 'block' : 'none';\n",
              "\n",
              "      async function convertToInteractive(key) {\n",
              "        const element = document.querySelector('#df-13f10bfd-21fc-4dcc-aedb-bfe5a67edbc5');\n",
              "        const dataTable =\n",
              "          await google.colab.kernel.invokeFunction('convertToInteractive',\n",
              "                                                    [key], {});\n",
              "        if (!dataTable) return;\n",
              "\n",
              "        const docLinkHtml = 'Like what you see? Visit the ' +\n",
              "          '<a target=\"_blank\" href=https://colab.research.google.com/notebooks/data_table.ipynb>data table notebook</a>'\n",
              "          + ' to learn more about interactive tables.';\n",
              "        element.innerHTML = '';\n",
              "        dataTable['output_type'] = 'display_data';\n",
              "        await google.colab.output.renderOutput(dataTable, element);\n",
              "        const docLink = document.createElement('div');\n",
              "        docLink.innerHTML = docLinkHtml;\n",
              "        element.appendChild(docLink);\n",
              "      }\n",
              "    </script>\n",
              "  </div>\n",
              "\n",
              "\n",
              "<div id=\"df-fb7172ce-2733-40b6-a5fa-1bb65a32a01c\">\n",
              "  <button class=\"colab-df-quickchart\" onclick=\"quickchart('df-fb7172ce-2733-40b6-a5fa-1bb65a32a01c')\"\n",
              "            title=\"Suggest charts\"\n",
              "            style=\"display:none;\">\n",
              "\n",
              "<svg xmlns=\"http://www.w3.org/2000/svg\" height=\"24px\"viewBox=\"0 0 24 24\"\n",
              "     width=\"24px\">\n",
              "    <g>\n",
              "        <path d=\"M19 3H5c-1.1 0-2 .9-2 2v14c0 1.1.9 2 2 2h14c1.1 0 2-.9 2-2V5c0-1.1-.9-2-2-2zM9 17H7v-7h2v7zm4 0h-2V7h2v10zm4 0h-2v-4h2v4z\"/>\n",
              "    </g>\n",
              "</svg>\n",
              "  </button>\n",
              "\n",
              "<style>\n",
              "  .colab-df-quickchart {\n",
              "      --bg-color: #E8F0FE;\n",
              "      --fill-color: #1967D2;\n",
              "      --hover-bg-color: #E2EBFA;\n",
              "      --hover-fill-color: #174EA6;\n",
              "      --disabled-fill-color: #AAA;\n",
              "      --disabled-bg-color: #DDD;\n",
              "  }\n",
              "\n",
              "  [theme=dark] .colab-df-quickchart {\n",
              "      --bg-color: #3B4455;\n",
              "      --fill-color: #D2E3FC;\n",
              "      --hover-bg-color: #434B5C;\n",
              "      --hover-fill-color: #FFFFFF;\n",
              "      --disabled-bg-color: #3B4455;\n",
              "      --disabled-fill-color: #666;\n",
              "  }\n",
              "\n",
              "  .colab-df-quickchart {\n",
              "    background-color: var(--bg-color);\n",
              "    border: none;\n",
              "    border-radius: 50%;\n",
              "    cursor: pointer;\n",
              "    display: none;\n",
              "    fill: var(--fill-color);\n",
              "    height: 32px;\n",
              "    padding: 0;\n",
              "    width: 32px;\n",
              "  }\n",
              "\n",
              "  .colab-df-quickchart:hover {\n",
              "    background-color: var(--hover-bg-color);\n",
              "    box-shadow: 0 1px 2px rgba(60, 64, 67, 0.3), 0 1px 3px 1px rgba(60, 64, 67, 0.15);\n",
              "    fill: var(--button-hover-fill-color);\n",
              "  }\n",
              "\n",
              "  .colab-df-quickchart-complete:disabled,\n",
              "  .colab-df-quickchart-complete:disabled:hover {\n",
              "    background-color: var(--disabled-bg-color);\n",
              "    fill: var(--disabled-fill-color);\n",
              "    box-shadow: none;\n",
              "  }\n",
              "\n",
              "  .colab-df-spinner {\n",
              "    border: 2px solid var(--fill-color);\n",
              "    border-color: transparent;\n",
              "    border-bottom-color: var(--fill-color);\n",
              "    animation:\n",
              "      spin 1s steps(1) infinite;\n",
              "  }\n",
              "\n",
              "  @keyframes spin {\n",
              "    0% {\n",
              "      border-color: transparent;\n",
              "      border-bottom-color: var(--fill-color);\n",
              "      border-left-color: var(--fill-color);\n",
              "    }\n",
              "    20% {\n",
              "      border-color: transparent;\n",
              "      border-left-color: var(--fill-color);\n",
              "      border-top-color: var(--fill-color);\n",
              "    }\n",
              "    30% {\n",
              "      border-color: transparent;\n",
              "      border-left-color: var(--fill-color);\n",
              "      border-top-color: var(--fill-color);\n",
              "      border-right-color: var(--fill-color);\n",
              "    }\n",
              "    40% {\n",
              "      border-color: transparent;\n",
              "      border-right-color: var(--fill-color);\n",
              "      border-top-color: var(--fill-color);\n",
              "    }\n",
              "    60% {\n",
              "      border-color: transparent;\n",
              "      border-right-color: var(--fill-color);\n",
              "    }\n",
              "    80% {\n",
              "      border-color: transparent;\n",
              "      border-right-color: var(--fill-color);\n",
              "      border-bottom-color: var(--fill-color);\n",
              "    }\n",
              "    90% {\n",
              "      border-color: transparent;\n",
              "      border-bottom-color: var(--fill-color);\n",
              "    }\n",
              "  }\n",
              "</style>\n",
              "\n",
              "  <script>\n",
              "    async function quickchart(key) {\n",
              "      const quickchartButtonEl =\n",
              "        document.querySelector('#' + key + ' button');\n",
              "      quickchartButtonEl.disabled = true;  // To prevent multiple clicks.\n",
              "      quickchartButtonEl.classList.add('colab-df-spinner');\n",
              "      try {\n",
              "        const charts = await google.colab.kernel.invokeFunction(\n",
              "            'suggestCharts', [key], {});\n",
              "      } catch (error) {\n",
              "        console.error('Error during call to suggestCharts:', error);\n",
              "      }\n",
              "      quickchartButtonEl.classList.remove('colab-df-spinner');\n",
              "      quickchartButtonEl.classList.add('colab-df-quickchart-complete');\n",
              "    }\n",
              "    (() => {\n",
              "      let quickchartButtonEl =\n",
              "        document.querySelector('#df-fb7172ce-2733-40b6-a5fa-1bb65a32a01c button');\n",
              "      quickchartButtonEl.style.display =\n",
              "        google.colab.kernel.accessAllowed ? 'block' : 'none';\n",
              "    })();\n",
              "  </script>\n",
              "</div>\n",
              "\n",
              "  <div id=\"id_a89a0be6-effa-4c72-8ac3-c9643f0a8d9f\">\n",
              "    <style>\n",
              "      .colab-df-generate {\n",
              "        background-color: #E8F0FE;\n",
              "        border: none;\n",
              "        border-radius: 50%;\n",
              "        cursor: pointer;\n",
              "        display: none;\n",
              "        fill: #1967D2;\n",
              "        height: 32px;\n",
              "        padding: 0 0 0 0;\n",
              "        width: 32px;\n",
              "      }\n",
              "\n",
              "      .colab-df-generate:hover {\n",
              "        background-color: #E2EBFA;\n",
              "        box-shadow: 0px 1px 2px rgba(60, 64, 67, 0.3), 0px 1px 3px 1px rgba(60, 64, 67, 0.15);\n",
              "        fill: #174EA6;\n",
              "      }\n",
              "\n",
              "      [theme=dark] .colab-df-generate {\n",
              "        background-color: #3B4455;\n",
              "        fill: #D2E3FC;\n",
              "      }\n",
              "\n",
              "      [theme=dark] .colab-df-generate:hover {\n",
              "        background-color: #434B5C;\n",
              "        box-shadow: 0px 1px 3px 1px rgba(0, 0, 0, 0.15);\n",
              "        filter: drop-shadow(0px 1px 2px rgba(0, 0, 0, 0.3));\n",
              "        fill: #FFFFFF;\n",
              "      }\n",
              "    </style>\n",
              "    <button class=\"colab-df-generate\" onclick=\"generateWithVariable('Penguins')\"\n",
              "            title=\"Generate code using this dataframe.\"\n",
              "            style=\"display:none;\">\n",
              "\n",
              "  <svg xmlns=\"http://www.w3.org/2000/svg\" height=\"24px\"viewBox=\"0 0 24 24\"\n",
              "       width=\"24px\">\n",
              "    <path d=\"M7,19H8.4L18.45,9,17,7.55,7,17.6ZM5,21V16.75L18.45,3.32a2,2,0,0,1,2.83,0l1.4,1.43a1.91,1.91,0,0,1,.58,1.4,1.91,1.91,0,0,1-.58,1.4L9.25,21ZM18.45,9,17,7.55Zm-12,3A5.31,5.31,0,0,0,4.9,8.1,5.31,5.31,0,0,0,1,6.5,5.31,5.31,0,0,0,4.9,4.9,5.31,5.31,0,0,0,6.5,1,5.31,5.31,0,0,0,8.1,4.9,5.31,5.31,0,0,0,12,6.5,5.46,5.46,0,0,0,6.5,12Z\"/>\n",
              "  </svg>\n",
              "    </button>\n",
              "    <script>\n",
              "      (() => {\n",
              "      const buttonEl =\n",
              "        document.querySelector('#id_a89a0be6-effa-4c72-8ac3-c9643f0a8d9f button.colab-df-generate');\n",
              "      buttonEl.style.display =\n",
              "        google.colab.kernel.accessAllowed ? 'block' : 'none';\n",
              "\n",
              "      buttonEl.onclick = () => {\n",
              "        google.colab.notebook.generateWithVariable('Penguins');\n",
              "      }\n",
              "      })();\n",
              "    </script>\n",
              "  </div>\n",
              "\n",
              "    </div>\n",
              "  </div>\n"
            ],
            "application/vnd.google.colaboratory.intrinsic+json": {
              "type": "dataframe",
              "variable_name": "Penguins",
              "summary": "{\n  \"name\": \"Penguins\",\n  \"rows\": 333,\n  \"fields\": [\n    {\n      \"column\": \"species\",\n      \"properties\": {\n        \"dtype\": \"category\",\n        \"num_unique_values\": 3,\n        \"samples\": [\n          \"Adelie\",\n          \"Gentoo\",\n          \"Chinstrap\"\n        ],\n        \"semantic_type\": \"\",\n        \"description\": \"\"\n      }\n    },\n    {\n      \"column\": \"island\",\n      \"properties\": {\n        \"dtype\": \"category\",\n        \"num_unique_values\": 3,\n        \"samples\": [\n          \"Torgersen\",\n          \"Biscoe\",\n          \"Dream\"\n        ],\n        \"semantic_type\": \"\",\n        \"description\": \"\"\n      }\n    },\n    {\n      \"column\": \"bill_length\",\n      \"properties\": {\n        \"dtype\": \"number\",\n        \"std\": 0.5468668342647561,\n        \"min\": 3.21,\n        \"max\": 5.96,\n        \"num_unique_values\": 163,\n        \"samples\": [\n          4.69,\n          4.57,\n          5.21\n        ],\n        \"semantic_type\": \"\",\n        \"description\": \"\"\n      }\n    },\n    {\n      \"column\": \"bill_depth\",\n      \"properties\": {\n        \"dtype\": \"number\",\n        \"std\": 0.19692354633199013,\n        \"min\": 1.31,\n        \"max\": 2.15,\n        \"num_unique_values\": 79,\n        \"samples\": [\n          1.95,\n          1.87,\n          1.7\n        ],\n        \"semantic_type\": \"\",\n        \"description\": \"\"\n      }\n    },\n    {\n      \"column\": \"flipper_length\",\n      \"properties\": {\n        \"dtype\": \"number\",\n        \"std\": 1.401576528828789,\n        \"min\": 17.2,\n        \"max\": 23.1,\n        \"num_unique_values\": 54,\n        \"samples\": [\n          18.8,\n          22.3,\n          22.9\n        ],\n        \"semantic_type\": \"\",\n        \"description\": \"\"\n      }\n    },\n    {\n      \"column\": \"body_mass\",\n      \"properties\": {\n        \"dtype\": \"number\",\n        \"std\": 0.8052158019428967,\n        \"min\": 2.7,\n        \"max\": 6.3,\n        \"num_unique_values\": 93,\n        \"samples\": [\n          4.725,\n          3.1,\n          5.4\n        ],\n        \"semantic_type\": \"\",\n        \"description\": \"\"\n      }\n    },\n    {\n      \"column\": \"sex\",\n      \"properties\": {\n        \"dtype\": \"category\",\n        \"num_unique_values\": 2,\n        \"samples\": [\n          \"female\",\n          \"male\"\n        ],\n        \"semantic_type\": \"\",\n        \"description\": \"\"\n      }\n    },\n    {\n      \"column\": \"year\",\n      \"properties\": {\n        \"dtype\": \"number\",\n        \"std\": 0,\n        \"min\": 2007,\n        \"max\": 2009,\n        \"num_unique_values\": 3,\n        \"samples\": [\n          2007,\n          2008\n        ],\n        \"semantic_type\": \"\",\n        \"description\": \"\"\n      }\n    }\n  ]\n}"
            }
          },
          "metadata": {},
          "execution_count": 4
        }
      ]
    },
    {
      "cell_type": "markdown",
      "source": [
        "##Variable Selection"
      ],
      "metadata": {
        "id": "ugjzpFpYM5f0"
      }
    },
    {
      "cell_type": "markdown",
      "source": [
        "I will start by creating scatterplots to see if my hypothesis that bill length, bill depth, and/or flipper length will have the most impact on the body mass. These models will help me visualize the patterns in a simpler way which makes it easier to compare models."
      ],
      "metadata": {
        "id": "PMWw9ON8RlNA"
      }
    },
    {
      "cell_type": "code",
      "source": [
        "x = [\"species\", \"island\", \"bill_length\", \"bill_depth\", \"flipper_length\", \"sex\"]\n",
        "y = \"body_mass\"\n",
        "for a in x:\n",
        "  plt.scatter(Penguins[a], Penguins[y])\n",
        "  plt.xlabel(a)\n",
        "  plt.ylabel(y)\n",
        "  plt.show()"
      ],
      "metadata": {
        "colab": {
          "base_uri": "https://localhost:8080/",
          "height": 1000
        },
        "id": "QwjiZmLlxKXG",
        "outputId": "f60ca29a-54aa-4f19-e6fa-b7484f753a6d"
      },
      "execution_count": null,
      "outputs": [
        {
          "output_type": "display_data",
          "data": {
            "text/plain": [
              "<Figure size 640x480 with 1 Axes>"
            ],
            "image/png": "[encoded data removed]"
          },
          "metadata": {}
        },
        {
          "output_type": "display_data",
          "data": {
            "text/plain": [
              "<Figure size 640x480 with 1 Axes>"
            ],
            "image/png": "[encoded data removed]"
          },
          "metadata": {}
        },
        {
          "output_type": "display_data",
          "data": {
            "text/plain": [
              "<Figure size 640x480 with 1 Axes>"
            ],
            "image/png": "[encoded data removed]"
          },
          "metadata": {}
        },
        {
          "output_type": "display_data",
          "data": {
            "text/plain": [
              "<Figure size 640x480 with 1 Axes>"
            ],
            "image/png": "[encoded data removed]"
          },
          "metadata": {}
        },
        {
          "output_type": "display_data",
          "data": {
            "text/plain": [
              "<Figure size 640x480 with 1 Axes>"
            ],
            "image/png": "[encoded data removed]"
          },
          "metadata": {}
        },
        {
          "output_type": "display_data",
          "data": {
            "text/plain": [
              "<Figure size 640x480 with 1 Axes>"
            ],
            "image/png": "[encoded data removed]"
          },
          "metadata": {}
        }
      ]
    },
    {
      "cell_type": "markdown",
      "source": [
        "These scatterplots help me visualize the patterns for the different variables. It is clear that while there is some variation for male and female, the trend is not significant (males tend to have slightly higher body mass overall). Similarly, the Biscoe Island and Gentoo species tend to have higher body mass, whereas the other 2 islands and species are about the same as each other. Bill depth shows more of a trend than the previous variables, but has some weird spacing, with some smaller bill depths having similar body mass to larger bill depths. Bill length shows even more of an increasing pattern, with longer bills having higher body mass. Ultimately, the scatterplots show us that flipper length has the most cohesive upward trend with body mass, making it clear that longer flippers equates to higher body mass. This is not suprising."
      ],
      "metadata": {
        "id": "QRwBnu5_x6Dr"
      }
    },
    {
      "cell_type": "markdown",
      "source": [
        "Now, I will compare models with flipper length, bill length, and bill depth, with the occasional inclusion of species as a variable to see if it might make an impact."
      ],
      "metadata": {
        "id": "ePnWQenTQOBi"
      }
    },
    {
      "cell_type": "code",
      "source": [
        "model = bmb.Model(\"body_mass ~ flipper_length + bill_length\", Penguins)\n",
        "idata = model.fit(idata_kwargs={\"log_likelihood\":True})"
      ],
      "metadata": {
        "colab": {
          "base_uri": "https://localhost:8080/",
          "height": 116,
          "referenced_widgets": [
            "943a2ef84e2640cf9c27a9152cb9d5e5",
            "5c1f5a247dfc4cb99de8159838fbfb87"
          ]
        },
        "id": "CG4gYkJpNGzw",
        "outputId": "d75a30d8-5abe-42a4-de74-f5feb9861c15"
      },
      "execution_count": null,
      "outputs": [
        {
          "output_type": "display_data",
          "data": {
            "text/plain": [
              "Output()"
            ],
            "application/vnd.jupyter.widget-view+json": {
              "version_major": 2,
              "version_minor": 0,
              "model_id": "943a2ef84e2640cf9c27a9152cb9d5e5"
            }
          },
          "metadata": {}
        },
        {
          "output_type": "display_data",
          "data": {
            "text/plain": [],
            "text/html": [
              "<pre style=\"white-space:pre;overflow-x:auto;line-height:normal;font-family:Menlo,'DejaVu Sans Mono',consolas,'Courier New',monospace\"></pre>\n"
            ]
          },
          "metadata": {}
        }
      ]
    },
    {
      "cell_type": "code",
      "source": [
        "model_2 = bmb.Model(\"body_mass ~ flipper_length + bill_length + bill_depth\", Penguins)\n",
        "idata_2 = model.fit(idata_kwargs={\"log_likelihood\":True})"
      ],
      "metadata": {
        "colab": {
          "base_uri": "https://localhost:8080/",
          "height": 116,
          "referenced_widgets": [
            "79797f95c95f4784b340b254a6a8d63b",
            "d3a2d12bebad451eaa9e9d38e5fb7a92"
          ]
        },
        "id": "EPB15UUSNnnq",
        "outputId": "ec32eb06-92e3-45aa-e658-7857985c1194"
      },
      "execution_count": null,
      "outputs": [
        {
          "output_type": "display_data",
          "data": {
            "text/plain": [
              "Output()"
            ],
            "application/vnd.jupyter.widget-view+json": {
              "version_major": 2,
              "version_minor": 0,
              "model_id": "79797f95c95f4784b340b254a6a8d63b"
            }
          },
          "metadata": {}
        },
        {
          "output_type": "display_data",
          "data": {
            "text/plain": [],
            "text/html": [
              "<pre style=\"white-space:pre;overflow-x:auto;line-height:normal;font-family:Menlo,'DejaVu Sans Mono',consolas,'Courier New',monospace\"></pre>\n"
            ]
          },
          "metadata": {}
        }
      ]
    },
    {
      "cell_type": "code",
      "source": [
        "model_3 = bmb.Model(\"body_mass ~ flipper_length + bill_length + species\", Penguins)\n",
        "idata_3 = model.fit(idata_kwargs={\"log_likelihood\":True})"
      ],
      "metadata": {
        "colab": {
          "base_uri": "https://localhost:8080/",
          "height": 116,
          "referenced_widgets": [
            "c38b7ea93ed4433e9caa6b888e520c68",
            "faf9959019494cdea9bfc0c75ca116dd"
          ]
        },
        "id": "Z158AURSNwAM",
        "outputId": "c926f01d-269f-4d4e-88a2-e59c4eff58d1"
      },
      "execution_count": null,
      "outputs": [
        {
          "output_type": "display_data",
          "data": {
            "text/plain": [
              "Output()"
            ],
            "application/vnd.jupyter.widget-view+json": {
              "version_major": 2,
              "version_minor": 0,
              "model_id": "c38b7ea93ed4433e9caa6b888e520c68"
            }
          },
          "metadata": {}
        },
        {
          "output_type": "display_data",
          "data": {
            "text/plain": [],
            "text/html": [
              "<pre style=\"white-space:pre;overflow-x:auto;line-height:normal;font-family:Menlo,'DejaVu Sans Mono',consolas,'Courier New',monospace\"></pre>\n"
            ]
          },
          "metadata": {}
        }
      ]
    },
    {
      "cell_type": "code",
      "source": [
        "model_4 = bmb.Model(\"body_mass ~ flipper_length + bill_length + bill_depth + species\", Penguins)\n",
        "idata_4 = model.fit(idata_kwargs={\"log_likelihood\":True})"
      ],
      "metadata": {
        "colab": {
          "base_uri": "https://localhost:8080/",
          "height": 116,
          "referenced_widgets": [
            "22b517c05d2143e4ba9de9470dbb95e8",
            "dc65b7abd4fc4f1b8be539cd3c10a1d6"
          ]
        },
        "id": "OM7GLAqyN3Fl",
        "outputId": "7bf3f25e-caba-40b2-adf9-2c1e1c37ff8b"
      },
      "execution_count": null,
      "outputs": [
        {
          "output_type": "display_data",
          "data": {
            "text/plain": [
              "Output()"
            ],
            "application/vnd.jupyter.widget-view+json": {
              "version_major": 2,
              "version_minor": 0,
              "model_id": "22b517c05d2143e4ba9de9470dbb95e8"
            }
          },
          "metadata": {}
        },
        {
          "output_type": "display_data",
          "data": {
            "text/plain": [],
            "text/html": [
              "<pre style=\"white-space:pre;overflow-x:auto;line-height:normal;font-family:Menlo,'DejaVu Sans Mono',consolas,'Courier New',monospace\"></pre>\n"
            ]
          },
          "metadata": {}
        }
      ]
    },
    {
      "cell_type": "code",
      "source": [
        "compare = az.compare({\"fl + bl\": idata, \"+ bd\": idata_2, \"+ species\": idata_3, \"+ bd + species\": idata_4})\n",
        "compare"
      ],
      "metadata": {
        "colab": {
          "base_uri": "https://localhost:8080/",
          "height": 175
        },
        "id": "qXqj1MsrN_5J",
        "outputId": "3cb3d982-81d5-4547-fd73-4f9763fc0d35"
      },
      "execution_count": null,
      "outputs": [
        {
          "output_type": "execute_result",
          "data": {
            "text/plain": [
              "                rank    elpd_loo     p_loo  elpd_diff        weight  \\\n",
              "+ bd               0 -164.262331  3.770301   0.000000  1.000000e+00   \n",
              "+ bd + species     1 -164.273618  3.781155   0.011288  1.887379e-15   \n",
              "fl + bl            2 -164.330878  3.842090   0.068547  0.000000e+00   \n",
              "+ species          3 -164.409210  3.906703   0.146879  0.000000e+00   \n",
              "\n",
              "                       se       dse  warning scale  \n",
              "+ bd            13.058441  0.000000    False   log  \n",
              "+ bd + species  13.033385  0.069283    False   log  \n",
              "fl + bl         13.023517  0.073374    False   log  \n",
              "+ species       13.029404  0.034262    False   log  "
            ],
            "text/html": [
              "\n",
              "  <div id=\"df-489e274a-fd34-4a86-b398-1e02bc718d41\" class=\"colab-df-container\">\n",
              "    <div>\n",
              "<style scoped>\n",
              "    .dataframe tbody tr th:only-of-type {\n",
              "        vertical-align: middle;\n",
              "    }\n",
              "\n",
              "    .dataframe tbody tr th {\n",
              "        vertical-align: top;\n",
              "    }\n",
              "\n",
              "    .dataframe thead th {\n",
              "        text-align: right;\n",
              "    }\n",
              "</style>\n",
              "<table border=\"1\" class=\"dataframe\">\n",
              "  <thead>\n",
              "    <tr style=\"text-align: right;\">\n",
              "      <th></th>\n",
              "      <th>rank</th>\n",
              "      <th>elpd_loo</th>\n",
              "      <th>p_loo</th>\n",
              "      <th>elpd_diff</th>\n",
              "      <th>weight</th>\n",
              "      <th>se</th>\n",
              "      <th>dse</th>\n",
              "      <th>warning</th>\n",
              "      <th>scale</th>\n",
              "    </tr>\n",
              "  </thead>\n",
              "  <tbody>\n",
              "    <tr>\n",
              "      <th>+ bd</th>\n",
              "      <td>0</td>\n",
              "      <td>-164.262331</td>\n",
              "      <td>3.770301</td>\n",
              "      <td>0.000000</td>\n",
              "      <td>1.000000e+00</td>\n",
              "      <td>13.058441</td>\n",
              "      <td>0.000000</td>\n",
              "      <td>False</td>\n",
              "      <td>log</td>\n",
              "    </tr>\n",
              "    <tr>\n",
              "      <th>+ bd + species</th>\n",
              "      <td>1</td>\n",
              "      <td>-164.273618</td>\n",
              "      <td>3.781155</td>\n",
              "      <td>0.011288</td>\n",
              "      <td>1.887379e-15</td>\n",
              "      <td>13.033385</td>\n",
              "      <td>0.069283</td>\n",
              "      <td>False</td>\n",
              "      <td>log</td>\n",
              "    </tr>\n",
              "    <tr>\n",
              "      <th>fl + bl</th>\n",
              "      <td>2</td>\n",
              "      <td>-164.330878</td>\n",
              "      <td>3.842090</td>\n",
              "      <td>0.068547</td>\n",
              "      <td>0.000000e+00</td>\n",
              "      <td>13.023517</td>\n",
              "      <td>0.073374</td>\n",
              "      <td>False</td>\n",
              "      <td>log</td>\n",
              "    </tr>\n",
              "    <tr>\n",
              "      <th>+ species</th>\n",
              "      <td>3</td>\n",
              "      <td>-164.409210</td>\n",
              "      <td>3.906703</td>\n",
              "      <td>0.146879</td>\n",
              "      <td>0.000000e+00</td>\n",
              "      <td>13.029404</td>\n",
              "      <td>0.034262</td>\n",
              "      <td>False</td>\n",
              "      <td>log</td>\n",
              "    </tr>\n",
              "  </tbody>\n",
              "</table>\n",
              "</div>\n",
              "    <div class=\"colab-df-buttons\">\n",
              "\n",
              "  <div class=\"colab-df-container\">\n",
              "    <button class=\"colab-df-convert\" onclick=\"convertToInteractive('df-489e274a-fd34-4a86-b398-1e02bc718d41')\"\n",
              "            title=\"Convert this dataframe to an interactive table.\"\n",
              "            style=\"display:none;\">\n",
              "\n",
              "  <svg xmlns=\"http://www.w3.org/2000/svg\" height=\"24px\" viewBox=\"0 -960 960 960\">\n",
              "    <path d=\"M120-120v-720h720v720H120Zm60-500h600v-160H180v160Zm220 220h160v-160H400v160Zm0 220h160v-160H400v160ZM180-400h160v-160H180v160Zm440 0h160v-160H620v160ZM180-180h160v-160H180v160Zm440 0h160v-160H620v160Z\"/>\n",
              "  </svg>\n",
              "    </button>\n",
              "\n",
              "  <style>\n",
              "    .colab-df-container {\n",
              "      display:flex;\n",
              "      gap: 12px;\n",
              "    }\n",
              "\n",
              "    .colab-df-convert {\n",
              "      background-color: #E8F0FE;\n",
              "      border: none;\n",
              "      border-radius: 50%;\n",
              "      cursor: pointer;\n",
              "      display: none;\n",
              "      fill: #1967D2;\n",
              "      height: 32px;\n",
              "      padding: 0 0 0 0;\n",
              "      width: 32px;\n",
              "    }\n",
              "\n",
              "    .colab-df-convert:hover {\n",
              "      background-color: #E2EBFA;\n",
              "      box-shadow: 0px 1px 2px rgba(60, 64, 67, 0.3), 0px 1px 3px 1px rgba(60, 64, 67, 0.15);\n",
              "      fill: #174EA6;\n",
              "    }\n",
              "\n",
              "    .colab-df-buttons div {\n",
              "      margin-bottom: 4px;\n",
              "    }\n",
              "\n",
              "    [theme=dark] .colab-df-convert {\n",
              "      background-color: #3B4455;\n",
              "      fill: #D2E3FC;\n",
              "    }\n",
              "\n",
              "    [theme=dark] .colab-df-convert:hover {\n",
              "      background-color: #434B5C;\n",
              "      box-shadow: 0px 1px 3px 1px rgba(0, 0, 0, 0.15);\n",
              "      filter: drop-shadow(0px 1px 2px rgba(0, 0, 0, 0.3));\n",
              "      fill: #FFFFFF;\n",
              "    }\n",
              "  </style>\n",
              "\n",
              "    <script>\n",
              "      const buttonEl =\n",
              "        document.querySelector('#df-489e274a-fd34-4a86-b398-1e02bc718d41 button.colab-df-convert');\n",
              "      buttonEl.style.display =\n",
              "        google.colab.kernel.accessAllowed ? 'block' : 'none';\n",
              "\n",
              "      async function convertToInteractive(key) {\n",
              "        const element = document.querySelector('#df-489e274a-fd34-4a86-b398-1e02bc718d41');\n",
              "        const dataTable =\n",
              "          await google.colab.kernel.invokeFunction('convertToInteractive',\n",
              "                                                    [key], {});\n",
              "        if (!dataTable) return;\n",
              "\n",
              "        const docLinkHtml = 'Like what you see? Visit the ' +\n",
              "          '<a target=\"_blank\" href=https://colab.research.google.com/notebooks/data_table.ipynb>data table notebook</a>'\n",
              "          + ' to learn more about interactive tables.';\n",
              "        element.innerHTML = '';\n",
              "        dataTable['output_type'] = 'display_data';\n",
              "        await google.colab.output.renderOutput(dataTable, element);\n",
              "        const docLink = document.createElement('div');\n",
              "        docLink.innerHTML = docLinkHtml;\n",
              "        element.appendChild(docLink);\n",
              "      }\n",
              "    </script>\n",
              "  </div>\n",
              "\n",
              "\n",
              "<div id=\"df-3b930b4c-b76e-4aa4-bde5-ac5fbf3f4702\">\n",
              "  <button class=\"colab-df-quickchart\" onclick=\"quickchart('df-3b930b4c-b76e-4aa4-bde5-ac5fbf3f4702')\"\n",
              "            title=\"Suggest charts\"\n",
              "            style=\"display:none;\">\n",
              "\n",
              "<svg xmlns=\"http://www.w3.org/2000/svg\" height=\"24px\"viewBox=\"0 0 24 24\"\n",
              "     width=\"24px\">\n",
              "    <g>\n",
              "        <path d=\"M19 3H5c-1.1 0-2 .9-2 2v14c0 1.1.9 2 2 2h14c1.1 0 2-.9 2-2V5c0-1.1-.9-2-2-2zM9 17H7v-7h2v7zm4 0h-2V7h2v10zm4 0h-2v-4h2v4z\"/>\n",
              "    </g>\n",
              "</svg>\n",
              "  </button>\n",
              "\n",
              "<style>\n",
              "  .colab-df-quickchart {\n",
              "      --bg-color: #E8F0FE;\n",
              "      --fill-color: #1967D2;\n",
              "      --hover-bg-color: #E2EBFA;\n",
              "      --hover-fill-color: #174EA6;\n",
              "      --disabled-fill-color: #AAA;\n",
              "      --disabled-bg-color: #DDD;\n",
              "  }\n",
              "\n",
              "  [theme=dark] .colab-df-quickchart {\n",
              "      --bg-color: #3B4455;\n",
              "      --fill-color: #D2E3FC;\n",
              "      --hover-bg-color: #434B5C;\n",
              "      --hover-fill-color: #FFFFFF;\n",
              "      --disabled-bg-color: #3B4455;\n",
              "      --disabled-fill-color: #666;\n",
              "  }\n",
              "\n",
              "  .colab-df-quickchart {\n",
              "    background-color: var(--bg-color);\n",
              "    border: none;\n",
              "    border-radius: 50%;\n",
              "    cursor: pointer;\n",
              "    display: none;\n",
              "    fill: var(--fill-color);\n",
              "    height: 32px;\n",
              "    padding: 0;\n",
              "    width: 32px;\n",
              "  }\n",
              "\n",
              "  .colab-df-quickchart:hover {\n",
              "    background-color: var(--hover-bg-color);\n",
              "    box-shadow: 0 1px 2px rgba(60, 64, 67, 0.3), 0 1px 3px 1px rgba(60, 64, 67, 0.15);\n",
              "    fill: var(--button-hover-fill-color);\n",
              "  }\n",
              "\n",
              "  .colab-df-quickchart-complete:disabled,\n",
              "  .colab-df-quickchart-complete:disabled:hover {\n",
              "    background-color: var(--disabled-bg-color);\n",
              "    fill: var(--disabled-fill-color);\n",
              "    box-shadow: none;\n",
              "  }\n",
              "\n",
              "  .colab-df-spinner {\n",
              "    border: 2px solid var(--fill-color);\n",
              "    border-color: transparent;\n",
              "    border-bottom-color: var(--fill-color);\n",
              "    animation:\n",
              "      spin 1s steps(1) infinite;\n",
              "  }\n",
              "\n",
              "  @keyframes spin {\n",
              "    0% {\n",
              "      border-color: transparent;\n",
              "      border-bottom-color: var(--fill-color);\n",
              "      border-left-color: var(--fill-color);\n",
              "    }\n",
              "    20% {\n",
              "      border-color: transparent;\n",
              "      border-left-color: var(--fill-color);\n",
              "      border-top-color: var(--fill-color);\n",
              "    }\n",
              "    30% {\n",
              "      border-color: transparent;\n",
              "      border-left-color: var(--fill-color);\n",
              "      border-top-color: var(--fill-color);\n",
              "      border-right-color: var(--fill-color);\n",
              "    }\n",
              "    40% {\n",
              "      border-color: transparent;\n",
              "      border-right-color: var(--fill-color);\n",
              "      border-top-color: var(--fill-color);\n",
              "    }\n",
              "    60% {\n",
              "      border-color: transparent;\n",
              "      border-right-color: var(--fill-color);\n",
              "    }\n",
              "    80% {\n",
              "      border-color: transparent;\n",
              "      border-right-color: var(--fill-color);\n",
              "      border-bottom-color: var(--fill-color);\n",
              "    }\n",
              "    90% {\n",
              "      border-color: transparent;\n",
              "      border-bottom-color: var(--fill-color);\n",
              "    }\n",
              "  }\n",
              "</style>\n",
              "\n",
              "  <script>\n",
              "    async function quickchart(key) {\n",
              "      const quickchartButtonEl =\n",
              "        document.querySelector('#' + key + ' button');\n",
              "      quickchartButtonEl.disabled = true;  // To prevent multiple clicks.\n",
              "      quickchartButtonEl.classList.add('colab-df-spinner');\n",
              "      try {\n",
              "        const charts = await google.colab.kernel.invokeFunction(\n",
              "            'suggestCharts', [key], {});\n",
              "      } catch (error) {\n",
              "        console.error('Error during call to suggestCharts:', error);\n",
              "      }\n",
              "      quickchartButtonEl.classList.remove('colab-df-spinner');\n",
              "      quickchartButtonEl.classList.add('colab-df-quickchart-complete');\n",
              "    }\n",
              "    (() => {\n",
              "      let quickchartButtonEl =\n",
              "        document.querySelector('#df-3b930b4c-b76e-4aa4-bde5-ac5fbf3f4702 button');\n",
              "      quickchartButtonEl.style.display =\n",
              "        google.colab.kernel.accessAllowed ? 'block' : 'none';\n",
              "    })();\n",
              "  </script>\n",
              "</div>\n",
              "\n",
              "  <div id=\"id_6ccdb747-2ebe-4e9f-81e5-120a4e050e92\">\n",
              "    <style>\n",
              "      .colab-df-generate {\n",
              "        background-color: #E8F0FE;\n",
              "        border: none;\n",
              "        border-radius: 50%;\n",
              "        cursor: pointer;\n",
              "        display: none;\n",
              "        fill: #1967D2;\n",
              "        height: 32px;\n",
              "        padding: 0 0 0 0;\n",
              "        width: 32px;\n",
              "      }\n",
              "\n",
              "      .colab-df-generate:hover {\n",
              "        background-color: #E2EBFA;\n",
              "        box-shadow: 0px 1px 2px rgba(60, 64, 67, 0.3), 0px 1px 3px 1px rgba(60, 64, 67, 0.15);\n",
              "        fill: #174EA6;\n",
              "      }\n",
              "\n",
              "      [theme=dark] .colab-df-generate {\n",
              "        background-color: #3B4455;\n",
              "        fill: #D2E3FC;\n",
              "      }\n",
              "\n",
              "      [theme=dark] .colab-df-generate:hover {\n",
              "        background-color: #434B5C;\n",
              "        box-shadow: 0px 1px 3px 1px rgba(0, 0, 0, 0.15);\n",
              "        filter: drop-shadow(0px 1px 2px rgba(0, 0, 0, 0.3));\n",
              "        fill: #FFFFFF;\n",
              "      }\n",
              "    </style>\n",
              "    <button class=\"colab-df-generate\" onclick=\"generateWithVariable('compare')\"\n",
              "            title=\"Generate code using this dataframe.\"\n",
              "            style=\"display:none;\">\n",
              "\n",
              "  <svg xmlns=\"http://www.w3.org/2000/svg\" height=\"24px\"viewBox=\"0 0 24 24\"\n",
              "       width=\"24px\">\n",
              "    <path d=\"M7,19H8.4L18.45,9,17,7.55,7,17.6ZM5,21V16.75L18.45,3.32a2,2,0,0,1,2.83,0l1.4,1.43a1.91,1.91,0,0,1,.58,1.4,1.91,1.91,0,0,1-.58,1.4L9.25,21ZM18.45,9,17,7.55Zm-12,3A5.31,5.31,0,0,0,4.9,8.1,5.31,5.31,0,0,0,1,6.5,5.31,5.31,0,0,0,4.9,4.9,5.31,5.31,0,0,0,6.5,1,5.31,5.31,0,0,0,8.1,4.9,5.31,5.31,0,0,0,12,6.5,5.46,5.46,0,0,0,6.5,12Z\"/>\n",
              "  </svg>\n",
              "    </button>\n",
              "    <script>\n",
              "      (() => {\n",
              "      const buttonEl =\n",
              "        document.querySelector('#id_6ccdb747-2ebe-4e9f-81e5-120a4e050e92 button.colab-df-generate');\n",
              "      buttonEl.style.display =\n",
              "        google.colab.kernel.accessAllowed ? 'block' : 'none';\n",
              "\n",
              "      buttonEl.onclick = () => {\n",
              "        google.colab.notebook.generateWithVariable('compare');\n",
              "      }\n",
              "      })();\n",
              "    </script>\n",
              "  </div>\n",
              "\n",
              "    </div>\n",
              "  </div>\n"
            ],
            "application/vnd.google.colaboratory.intrinsic+json": {
              "type": "dataframe",
              "variable_name": "compare",
              "summary": "{\n  \"name\": \"compare\",\n  \"rows\": 4,\n  \"fields\": [\n    {\n      \"column\": \"rank\",\n      \"properties\": {\n        \"dtype\": \"number\",\n        \"std\": 1,\n        \"min\": 0,\n        \"max\": 3,\n        \"num_unique_values\": 4,\n        \"samples\": [\n          1,\n          3,\n          0\n        ],\n        \"semantic_type\": \"\",\n        \"description\": \"\"\n      }\n    },\n    {\n      \"column\": \"elpd_loo\",\n      \"properties\": {\n        \"dtype\": \"number\",\n        \"std\": 0.06720567831085549,\n        \"min\": -164.4092098065842,\n        \"max\": -164.26233058267633,\n        \"num_unique_values\": 4,\n        \"samples\": [\n          -164.27361834395435,\n          -164.4092098065842,\n          -164.26233058267633\n        ],\n        \"semantic_type\": \"\",\n        \"description\": \"\"\n      }\n    },\n    {\n      \"column\": \"p_loo\",\n      \"properties\": {\n        \"dtype\": \"number\",\n        \"std\": 0.06293323242561154,\n        \"min\": 3.7703013237728555,\n        \"max\": 3.906702958142745,\n        \"num_unique_values\": 4,\n        \"samples\": [\n          3.78115462641739,\n          3.906702958142745,\n          3.7703013237728555\n        ],\n        \"semantic_type\": \"\",\n        \"description\": \"\"\n      }\n    },\n    {\n      \"column\": \"elpd_diff\",\n      \"properties\": {\n        \"dtype\": \"number\",\n        \"std\": 0.06720567831086512,\n        \"min\": 0.0,\n        \"max\": 0.1468792239078862,\n        \"num_unique_values\": 4,\n        \"samples\": [\n          0.011287761278027553,\n          0.1468792239078862,\n          0.0\n        ],\n        \"semantic_type\": \"\",\n        \"description\": \"\"\n      }\n    },\n    {\n      \"column\": \"weight\",\n      \"properties\": {\n        \"dtype\": \"number\",\n        \"std\": 0.49999999999999967,\n        \"min\": 0.0,\n        \"max\": 1.0,\n        \"num_unique_values\": 3,\n        \"samples\": [\n          1.0,\n          1.887379141862766e-15,\n          0.0\n        ],\n        \"semantic_type\": \"\",\n        \"description\": \"\"\n      }\n    },\n    {\n      \"column\": \"se\",\n      \"properties\": {\n        \"dtype\": \"number\",\n        \"std\": 0.015379911867350398,\n        \"min\": 13.023516635605796,\n        \"max\": 13.058440685032183,\n        \"num_unique_values\": 4,\n        \"samples\": [\n          13.033384696384438,\n          13.02940411484193,\n          13.058440685032183\n        ],\n        \"semantic_type\": \"\",\n        \"description\": \"\"\n      }\n    },\n    {\n      \"column\": \"dse\",\n      \"properties\": {\n        \"dtype\": \"number\",\n        \"std\": 0.034315573410622656,\n        \"min\": 0.0,\n        \"max\": 0.07337366280201413,\n        \"num_unique_values\": 4,\n        \"samples\": [\n          0.06928349486822623,\n          0.03426244518905526,\n          0.0\n        ],\n        \"semantic_type\": \"\",\n        \"description\": \"\"\n      }\n    },\n    {\n      \"column\": \"warning\",\n      \"properties\": {\n        \"dtype\": \"boolean\",\n        \"num_unique_values\": 1,\n        \"samples\": [\n          false\n        ],\n        \"semantic_type\": \"\",\n        \"description\": \"\"\n      }\n    },\n    {\n      \"column\": \"scale\",\n      \"properties\": {\n        \"dtype\": \"category\",\n        \"num_unique_values\": 1,\n        \"samples\": [\n          \"log\"\n        ],\n        \"semantic_type\": \"\",\n        \"description\": \"\"\n      }\n    }\n  ]\n}"
            }
          },
          "metadata": {},
          "execution_count": 21
        }
      ]
    },
    {
      "cell_type": "code",
      "source": [
        "az.plot_compare(compare)"
      ],
      "metadata": {
        "colab": {
          "base_uri": "https://localhost:8080/",
          "height": 457
        },
        "id": "Tbn2o1NXOL2_",
        "outputId": "c29c6af6-7ccb-464a-8d1c-c303a4eefcdb"
      },
      "execution_count": null,
      "outputs": [
        {
          "output_type": "execute_result",
          "data": {
            "text/plain": [
              "<Axes: title={'center': 'Model comparison\\nhigher is better'}, xlabel='elpd_loo (log)', ylabel='ranked models'>"
            ]
          },
          "metadata": {},
          "execution_count": 22
        },
        {
          "output_type": "display_data",
          "data": {
            "text/plain": [
              "<Figure size 600x400 with 1 Axes>"
            ],
            "image/png": "[encoded data removed]"
          },
          "metadata": {}
        }
      ]
    },
    {
      "cell_type": "markdown",
      "source": [
        "The elpd_loo is showing that the different variations are pretty similar, so I will focus on analyzing flipper length and bill length, as it aligns most with my initial findings from the scatterplot."
      ],
      "metadata": {
        "id": "mVZosoFbOUt9"
      }
    },
    {
      "cell_type": "markdown",
      "source": [
        "##Model selection"
      ],
      "metadata": {
        "id": "IbbHnKIhRBSL"
      }
    },
    {
      "cell_type": "code",
      "source": [
        "model = bmb.Model(\"body_mass ~ flipper_length + bill_length\", Penguins)\n",
        "idata = model.fit(idata_kwargs={\"log_likelihood\":True})"
      ],
      "metadata": {
        "colab": {
          "base_uri": "https://localhost:8080/",
          "height": 116,
          "referenced_widgets": [
            "d6ef8077568848439071ab89e0087b83",
            "8c0af94968174c3081b6540b727e3ff1"
          ]
        },
        "id": "PCi6K7G4O0mF",
        "outputId": "2bcfeed6-3f29-4532-e5d8-19833789ef1c"
      },
      "execution_count": null,
      "outputs": [
        {
          "output_type": "display_data",
          "data": {
            "text/plain": [
              "Output()"
            ],
            "application/vnd.jupyter.widget-view+json": {
              "version_major": 2,
              "version_minor": 0,
              "model_id": "d6ef8077568848439071ab89e0087b83"
            }
          },
          "metadata": {}
        },
        {
          "output_type": "display_data",
          "data": {
            "text/plain": [],
            "text/html": [
              "<pre style=\"white-space:pre;overflow-x:auto;line-height:normal;font-family:Menlo,'DejaVu Sans Mono',consolas,'Courier New',monospace\"></pre>\n"
            ]
          },
          "metadata": {}
        }
      ]
    },
    {
      "cell_type": "code",
      "source": [
        "model_2 = bmb.Model(\"body_mass ~ poly(flipper_length + bill_length, degree=2)\", Penguins)\n",
        "idata_2 = model.fit(idata_kwargs={\"log_likelihood\":True})"
      ],
      "metadata": {
        "colab": {
          "base_uri": "https://localhost:8080/",
          "height": 116,
          "referenced_widgets": [
            "d938e68a1e70498e83ed1afe7654aac6",
            "b2a29982238249d9a6a43401c3f5cfbb"
          ]
        },
        "id": "a2YEZZQtO8v2",
        "outputId": "3f8a3293-bfb0-4231-ab9d-9758dfc3d163"
      },
      "execution_count": null,
      "outputs": [
        {
          "output_type": "display_data",
          "data": {
            "text/plain": [
              "Output()"
            ],
            "application/vnd.jupyter.widget-view+json": {
              "version_major": 2,
              "version_minor": 0,
              "model_id": "d938e68a1e70498e83ed1afe7654aac6"
            }
          },
          "metadata": {}
        },
        {
          "output_type": "display_data",
          "data": {
            "text/plain": [],
            "text/html": [
              "<pre style=\"white-space:pre;overflow-x:auto;line-height:normal;font-family:Menlo,'DejaVu Sans Mono',consolas,'Courier New',monospace\"></pre>\n"
            ]
          },
          "metadata": {}
        }
      ]
    },
    {
      "cell_type": "code",
      "source": [
        "model_3 = bmb.Model(\"body_mass ~ poly(flipper_length + bill_length, degree=3)\", Penguins)\n",
        "idata_3 = model.fit(idata_kwargs={\"log_likelihood\":True})"
      ],
      "metadata": {
        "colab": {
          "base_uri": "https://localhost:8080/",
          "height": 116,
          "referenced_widgets": [
            "ec6cb662ca374a498d43c0a835ab4a78",
            "66ba7a2417624a618934f953406f0b76"
          ]
        },
        "id": "w_vkZuejPEQa",
        "outputId": "0682e932-f16a-4f20-ee0b-e14ce2da7d00"
      },
      "execution_count": null,
      "outputs": [
        {
          "output_type": "display_data",
          "data": {
            "text/plain": [
              "Output()"
            ],
            "application/vnd.jupyter.widget-view+json": {
              "version_major": 2,
              "version_minor": 0,
              "model_id": "ec6cb662ca374a498d43c0a835ab4a78"
            }
          },
          "metadata": {}
        },
        {
          "output_type": "display_data",
          "data": {
            "text/plain": [],
            "text/html": [
              "<pre style=\"white-space:pre;overflow-x:auto;line-height:normal;font-family:Menlo,'DejaVu Sans Mono',consolas,'Courier New',monospace\"></pre>\n"
            ]
          },
          "metadata": {}
        }
      ]
    },
    {
      "cell_type": "code",
      "source": [
        "model_4 = bmb.Model(\"body_mass ~ bs(flipper_length + bill_length, degree=1, df=10)\", Penguins)\n",
        "idata_4 = model.fit(idata_kwargs={\"log_likelihood\":True})"
      ],
      "metadata": {
        "colab": {
          "base_uri": "https://localhost:8080/",
          "height": 116,
          "referenced_widgets": [
            "8c107e7cf78a4ad3873d4d5b9c3d871d",
            "20ada4a3d9584aee891ecc8565e4d4dc"
          ]
        },
        "id": "k9aWbKpLPIAJ",
        "outputId": "4ae5eee1-b88e-4b5f-9d5b-399ff0e80aa7"
      },
      "execution_count": null,
      "outputs": [
        {
          "output_type": "display_data",
          "data": {
            "text/plain": [
              "Output()"
            ],
            "application/vnd.jupyter.widget-view+json": {
              "version_major": 2,
              "version_minor": 0,
              "model_id": "8c107e7cf78a4ad3873d4d5b9c3d871d"
            }
          },
          "metadata": {}
        },
        {
          "output_type": "display_data",
          "data": {
            "text/plain": [],
            "text/html": [
              "<pre style=\"white-space:pre;overflow-x:auto;line-height:normal;font-family:Menlo,'DejaVu Sans Mono',consolas,'Courier New',monospace\"></pre>\n"
            ]
          },
          "metadata": {}
        }
      ]
    },
    {
      "cell_type": "code",
      "source": [
        "model_5 = bmb.Model(\"body_mass ~ hsgp(flipper_length + bill_length, m=10, c=1.5)\", Penguins)\n",
        "idata_5 = model.fit(idata_kwargs={\"log_likelihood\":True})"
      ],
      "metadata": {
        "colab": {
          "base_uri": "https://localhost:8080/",
          "height": 116,
          "referenced_widgets": [
            "855ddc7a038e4c88bc6fd3248ed409aa",
            "b18fe354c37c4f7783dff62601d8c672"
          ]
        },
        "id": "eOpOcHVYPPNF",
        "outputId": "5eb75d89-fc99-4c1a-8f28-f3b1de27a9e6"
      },
      "execution_count": null,
      "outputs": [
        {
          "output_type": "display_data",
          "data": {
            "text/plain": [
              "Output()"
            ],
            "application/vnd.jupyter.widget-view+json": {
              "version_major": 2,
              "version_minor": 0,
              "model_id": "855ddc7a038e4c88bc6fd3248ed409aa"
            }
          },
          "metadata": {}
        },
        {
          "output_type": "display_data",
          "data": {
            "text/plain": [],
            "text/html": [
              "<pre style=\"white-space:pre;overflow-x:auto;line-height:normal;font-family:Menlo,'DejaVu Sans Mono',consolas,'Courier New',monospace\"></pre>\n"
            ]
          },
          "metadata": {}
        }
      ]
    },
    {
      "cell_type": "code",
      "source": [
        "compare = az.compare({\"linear\": idata, \"quadratic\": idata_2, \"cubic\": idata_3, \"b spline\": idata_4, \"hsgp\": idata_5})\n",
        "compare"
      ],
      "metadata": {
        "colab": {
          "base_uri": "https://localhost:8080/",
          "height": 206
        },
        "id": "5amlbHcbPVH9",
        "outputId": "c28f6a27-e7e3-4c9b-a5d1-7ef19586b064"
      },
      "execution_count": null,
      "outputs": [
        {
          "output_type": "execute_result",
          "data": {
            "text/plain": [
              "           rank    elpd_loo     p_loo  elpd_diff        weight         se  \\\n",
              "quadratic     0 -164.138520  3.669968   0.000000  1.000000e+00  13.071027   \n",
              "cubic         1 -164.247336  3.753216   0.108817  0.000000e+00  13.022048   \n",
              "hsgp          2 -164.331786  3.845421   0.193266  3.645018e-16  13.038833   \n",
              "linear        3 -164.345957  3.832751   0.207437  0.000000e+00  13.013908   \n",
              "b spline      4 -164.378276  3.883436   0.239756  2.220446e-16  13.041869   \n",
              "\n",
              "                dse  warning scale  \n",
              "quadratic  0.000000    False   log  \n",
              "cubic      0.056492    False   log  \n",
              "hsgp       0.059852    False   log  \n",
              "linear     0.069010    False   log  \n",
              "b spline   0.038009    False   log  "
            ],
            "text/html": [
              "\n",
              "  <div id=\"df-239827c5-075e-44ee-8d3a-7d4056998e6b\" class=\"colab-df-container\">\n",
              "    <div>\n",
              "<style scoped>\n",
              "    .dataframe tbody tr th:only-of-type {\n",
              "        vertical-align: middle;\n",
              "    }\n",
              "\n",
              "    .dataframe tbody tr th {\n",
              "        vertical-align: top;\n",
              "    }\n",
              "\n",
              "    .dataframe thead th {\n",
              "        text-align: right;\n",
              "    }\n",
              "</style>\n",
              "<table border=\"1\" class=\"dataframe\">\n",
              "  <thead>\n",
              "    <tr style=\"text-align: right;\">\n",
              "      <th></th>\n",
              "      <th>rank</th>\n",
              "      <th>elpd_loo</th>\n",
              "      <th>p_loo</th>\n",
              "      <th>elpd_diff</th>\n",
              "      <th>weight</th>\n",
              "      <th>se</th>\n",
              "      <th>dse</th>\n",
              "      <th>warning</th>\n",
              "      <th>scale</th>\n",
              "    </tr>\n",
              "  </thead>\n",
              "  <tbody>\n",
              "    <tr>\n",
              "      <th>quadratic</th>\n",
              "      <td>0</td>\n",
              "      <td>-164.138520</td>\n",
              "      <td>3.669968</td>\n",
              "      <td>0.000000</td>\n",
              "      <td>1.000000e+00</td>\n",
              "      <td>13.071027</td>\n",
              "      <td>0.000000</td>\n",
              "      <td>False</td>\n",
              "      <td>log</td>\n",
              "    </tr>\n",
              "    <tr>\n",
              "      <th>cubic</th>\n",
              "      <td>1</td>\n",
              "      <td>-164.247336</td>\n",
              "      <td>3.753216</td>\n",
              "      <td>0.108817</td>\n",
              "      <td>0.000000e+00</td>\n",
              "      <td>13.022048</td>\n",
              "      <td>0.056492</td>\n",
              "      <td>False</td>\n",
              "      <td>log</td>\n",
              "    </tr>\n",
              "    <tr>\n",
              "      <th>hsgp</th>\n",
              "      <td>2</td>\n",
              "      <td>-164.331786</td>\n",
              "      <td>3.845421</td>\n",
              "      <td>0.193266</td>\n",
              "      <td>3.645018e-16</td>\n",
              "      <td>13.038833</td>\n",
              "      <td>0.059852</td>\n",
              "      <td>False</td>\n",
              "      <td>log</td>\n",
              "    </tr>\n",
              "    <tr>\n",
              "      <th>linear</th>\n",
              "      <td>3</td>\n",
              "      <td>-164.345957</td>\n",
              "      <td>3.832751</td>\n",
              "      <td>0.207437</td>\n",
              "      <td>0.000000e+00</td>\n",
              "      <td>13.013908</td>\n",
              "      <td>0.069010</td>\n",
              "      <td>False</td>\n",
              "      <td>log</td>\n",
              "    </tr>\n",
              "    <tr>\n",
              "      <th>b spline</th>\n",
              "      <td>4</td>\n",
              "      <td>-164.378276</td>\n",
              "      <td>3.883436</td>\n",
              "      <td>0.239756</td>\n",
              "      <td>2.220446e-16</td>\n",
              "      <td>13.041869</td>\n",
              "      <td>0.038009</td>\n",
              "      <td>False</td>\n",
              "      <td>log</td>\n",
              "    </tr>\n",
              "  </tbody>\n",
              "</table>\n",
              "</div>\n",
              "    <div class=\"colab-df-buttons\">\n",
              "\n",
              "  <div class=\"colab-df-container\">\n",
              "    <button class=\"colab-df-convert\" onclick=\"convertToInteractive('df-239827c5-075e-44ee-8d3a-7d4056998e6b')\"\n",
              "            title=\"Convert this dataframe to an interactive table.\"\n",
              "            style=\"display:none;\">\n",
              "\n",
              "  <svg xmlns=\"http://www.w3.org/2000/svg\" height=\"24px\" viewBox=\"0 -960 960 960\">\n",
              "    <path d=\"M120-120v-720h720v720H120Zm60-500h600v-160H180v160Zm220 220h160v-160H400v160Zm0 220h160v-160H400v160ZM180-400h160v-160H180v160Zm440 0h160v-160H620v160ZM180-180h160v-160H180v160Zm440 0h160v-160H620v160Z\"/>\n",
              "  </svg>\n",
              "    </button>\n",
              "\n",
              "  <style>\n",
              "    .colab-df-container {\n",
              "      display:flex;\n",
              "      gap: 12px;\n",
              "    }\n",
              "\n",
              "    .colab-df-convert {\n",
              "      background-color: #E8F0FE;\n",
              "      border: none;\n",
              "      border-radius: 50%;\n",
              "      cursor: pointer;\n",
              "      display: none;\n",
              "      fill: #1967D2;\n",
              "      height: 32px;\n",
              "      padding: 0 0 0 0;\n",
              "      width: 32px;\n",
              "    }\n",
              "\n",
              "    .colab-df-convert:hover {\n",
              "      background-color: #E2EBFA;\n",
              "      box-shadow: 0px 1px 2px rgba(60, 64, 67, 0.3), 0px 1px 3px 1px rgba(60, 64, 67, 0.15);\n",
              "      fill: #174EA6;\n",
              "    }\n",
              "\n",
              "    .colab-df-buttons div {\n",
              "      margin-bottom: 4px;\n",
              "    }\n",
              "\n",
              "    [theme=dark] .colab-df-convert {\n",
              "      background-color: #3B4455;\n",
              "      fill: #D2E3FC;\n",
              "    }\n",
              "\n",
              "    [theme=dark] .colab-df-convert:hover {\n",
              "      background-color: #434B5C;\n",
              "      box-shadow: 0px 1px 3px 1px rgba(0, 0, 0, 0.15);\n",
              "      filter: drop-shadow(0px 1px 2px rgba(0, 0, 0, 0.3));\n",
              "      fill: #FFFFFF;\n",
              "    }\n",
              "  </style>\n",
              "\n",
              "    <script>\n",
              "      const buttonEl =\n",
              "        document.querySelector('#df-239827c5-075e-44ee-8d3a-7d4056998e6b button.colab-df-convert');\n",
              "      buttonEl.style.display =\n",
              "        google.colab.kernel.accessAllowed ? 'block' : 'none';\n",
              "\n",
              "      async function convertToInteractive(key) {\n",
              "        const element = document.querySelector('#df-239827c5-075e-44ee-8d3a-7d4056998e6b');\n",
              "        const dataTable =\n",
              "          await google.colab.kernel.invokeFunction('convertToInteractive',\n",
              "                                                    [key], {});\n",
              "        if (!dataTable) return;\n",
              "\n",
              "        const docLinkHtml = 'Like what you see? Visit the ' +\n",
              "          '<a target=\"_blank\" href=https://colab.research.google.com/notebooks/data_table.ipynb>data table notebook</a>'\n",
              "          + ' to learn more about interactive tables.';\n",
              "        element.innerHTML = '';\n",
              "        dataTable['output_type'] = 'display_data';\n",
              "        await google.colab.output.renderOutput(dataTable, element);\n",
              "        const docLink = document.createElement('div');\n",
              "        docLink.innerHTML = docLinkHtml;\n",
              "        element.appendChild(docLink);\n",
              "      }\n",
              "    </script>\n",
              "  </div>\n",
              "\n",
              "\n",
              "<div id=\"df-fd54f8ec-dc5c-4c71-9cfa-5c961f11af45\">\n",
              "  <button class=\"colab-df-quickchart\" onclick=\"quickchart('df-fd54f8ec-dc5c-4c71-9cfa-5c961f11af45')\"\n",
              "            title=\"Suggest charts\"\n",
              "            style=\"display:none;\">\n",
              "\n",
              "<svg xmlns=\"http://www.w3.org/2000/svg\" height=\"24px\"viewBox=\"0 0 24 24\"\n",
              "     width=\"24px\">\n",
              "    <g>\n",
              "        <path d=\"M19 3H5c-1.1 0-2 .9-2 2v14c0 1.1.9 2 2 2h14c1.1 0 2-.9 2-2V5c0-1.1-.9-2-2-2zM9 17H7v-7h2v7zm4 0h-2V7h2v10zm4 0h-2v-4h2v4z\"/>\n",
              "    </g>\n",
              "</svg>\n",
              "  </button>\n",
              "\n",
              "<style>\n",
              "  .colab-df-quickchart {\n",
              "      --bg-color: #E8F0FE;\n",
              "      --fill-color: #1967D2;\n",
              "      --hover-bg-color: #E2EBFA;\n",
              "      --hover-fill-color: #174EA6;\n",
              "      --disabled-fill-color: #AAA;\n",
              "      --disabled-bg-color: #DDD;\n",
              "  }\n",
              "\n",
              "  [theme=dark] .colab-df-quickchart {\n",
              "      --bg-color: #3B4455;\n",
              "      --fill-color: #D2E3FC;\n",
              "      --hover-bg-color: #434B5C;\n",
              "      --hover-fill-color: #FFFFFF;\n",
              "      --disabled-bg-color: #3B4455;\n",
              "      --disabled-fill-color: #666;\n",
              "  }\n",
              "\n",
              "  .colab-df-quickchart {\n",
              "    background-color: var(--bg-color);\n",
              "    border: none;\n",
              "    border-radius: 50%;\n",
              "    cursor: pointer;\n",
              "    display: none;\n",
              "    fill: var(--fill-color);\n",
              "    height: 32px;\n",
              "    padding: 0;\n",
              "    width: 32px;\n",
              "  }\n",
              "\n",
              "  .colab-df-quickchart:hover {\n",
              "    background-color: var(--hover-bg-color);\n",
              "    box-shadow: 0 1px 2px rgba(60, 64, 67, 0.3), 0 1px 3px 1px rgba(60, 64, 67, 0.15);\n",
              "    fill: var(--button-hover-fill-color);\n",
              "  }\n",
              "\n",
              "  .colab-df-quickchart-complete:disabled,\n",
              "  .colab-df-quickchart-complete:disabled:hover {\n",
              "    background-color: var(--disabled-bg-color);\n",
              "    fill: var(--disabled-fill-color);\n",
              "    box-shadow: none;\n",
              "  }\n",
              "\n",
              "  .colab-df-spinner {\n",
              "    border: 2px solid var(--fill-color);\n",
              "    border-color: transparent;\n",
              "    border-bottom-color: var(--fill-color);\n",
              "    animation:\n",
              "      spin 1s steps(1) infinite;\n",
              "  }\n",
              "\n",
              "  @keyframes spin {\n",
              "    0% {\n",
              "      border-color: transparent;\n",
              "      border-bottom-color: var(--fill-color);\n",
              "      border-left-color: var(--fill-color);\n",
              "    }\n",
              "    20% {\n",
              "      border-color: transparent;\n",
              "      border-left-color: var(--fill-color);\n",
              "      border-top-color: var(--fill-color);\n",
              "    }\n",
              "    30% {\n",
              "      border-color: transparent;\n",
              "      border-left-color: var(--fill-color);\n",
              "      border-top-color: var(--fill-color);\n",
              "      border-right-color: var(--fill-color);\n",
              "    }\n",
              "    40% {\n",
              "      border-color: transparent;\n",
              "      border-right-color: var(--fill-color);\n",
              "      border-top-color: var(--fill-color);\n",
              "    }\n",
              "    60% {\n",
              "      border-color: transparent;\n",
              "      border-right-color: var(--fill-color);\n",
              "    }\n",
              "    80% {\n",
              "      border-color: transparent;\n",
              "      border-right-color: var(--fill-color);\n",
              "      border-bottom-color: var(--fill-color);\n",
              "    }\n",
              "    90% {\n",
              "      border-color: transparent;\n",
              "      border-bottom-color: var(--fill-color);\n",
              "    }\n",
              "  }\n",
              "</style>\n",
              "\n",
              "  <script>\n",
              "    async function quickchart(key) {\n",
              "      const quickchartButtonEl =\n",
              "        document.querySelector('#' + key + ' button');\n",
              "      quickchartButtonEl.disabled = true;  // To prevent multiple clicks.\n",
              "      quickchartButtonEl.classList.add('colab-df-spinner');\n",
              "      try {\n",
              "        const charts = await google.colab.kernel.invokeFunction(\n",
              "            'suggestCharts', [key], {});\n",
              "      } catch (error) {\n",
              "        console.error('Error during call to suggestCharts:', error);\n",
              "      }\n",
              "      quickchartButtonEl.classList.remove('colab-df-spinner');\n",
              "      quickchartButtonEl.classList.add('colab-df-quickchart-complete');\n",
              "    }\n",
              "    (() => {\n",
              "      let quickchartButtonEl =\n",
              "        document.querySelector('#df-fd54f8ec-dc5c-4c71-9cfa-5c961f11af45 button');\n",
              "      quickchartButtonEl.style.display =\n",
              "        google.colab.kernel.accessAllowed ? 'block' : 'none';\n",
              "    })();\n",
              "  </script>\n",
              "</div>\n",
              "\n",
              "  <div id=\"id_2866f0f7-a6ed-4d52-8e9a-5a61e125b7d4\">\n",
              "    <style>\n",
              "      .colab-df-generate {\n",
              "        background-color: #E8F0FE;\n",
              "        border: none;\n",
              "        border-radius: 50%;\n",
              "        cursor: pointer;\n",
              "        display: none;\n",
              "        fill: #1967D2;\n",
              "        height: 32px;\n",
              "        padding: 0 0 0 0;\n",
              "        width: 32px;\n",
              "      }\n",
              "\n",
              "      .colab-df-generate:hover {\n",
              "        background-color: #E2EBFA;\n",
              "        box-shadow: 0px 1px 2px rgba(60, 64, 67, 0.3), 0px 1px 3px 1px rgba(60, 64, 67, 0.15);\n",
              "        fill: #174EA6;\n",
              "      }\n",
              "\n",
              "      [theme=dark] .colab-df-generate {\n",
              "        background-color: #3B4455;\n",
              "        fill: #D2E3FC;\n",
              "      }\n",
              "\n",
              "      [theme=dark] .colab-df-generate:hover {\n",
              "        background-color: #434B5C;\n",
              "        box-shadow: 0px 1px 3px 1px rgba(0, 0, 0, 0.15);\n",
              "        filter: drop-shadow(0px 1px 2px rgba(0, 0, 0, 0.3));\n",
              "        fill: #FFFFFF;\n",
              "      }\n",
              "    </style>\n",
              "    <button class=\"colab-df-generate\" onclick=\"generateWithVariable('compare')\"\n",
              "            title=\"Generate code using this dataframe.\"\n",
              "            style=\"display:none;\">\n",
              "\n",
              "  <svg xmlns=\"http://www.w3.org/2000/svg\" height=\"24px\"viewBox=\"0 0 24 24\"\n",
              "       width=\"24px\">\n",
              "    <path d=\"M7,19H8.4L18.45,9,17,7.55,7,17.6ZM5,21V16.75L18.45,3.32a2,2,0,0,1,2.83,0l1.4,1.43a1.91,1.91,0,0,1,.58,1.4,1.91,1.91,0,0,1-.58,1.4L9.25,21ZM18.45,9,17,7.55Zm-12,3A5.31,5.31,0,0,0,4.9,8.1,5.31,5.31,0,0,0,1,6.5,5.31,5.31,0,0,0,4.9,4.9,5.31,5.31,0,0,0,6.5,1,5.31,5.31,0,0,0,8.1,4.9,5.31,5.31,0,0,0,12,6.5,5.46,5.46,0,0,0,6.5,12Z\"/>\n",
              "  </svg>\n",
              "    </button>\n",
              "    <script>\n",
              "      (() => {\n",
              "      const buttonEl =\n",
              "        document.querySelector('#id_2866f0f7-a6ed-4d52-8e9a-5a61e125b7d4 button.colab-df-generate');\n",
              "      buttonEl.style.display =\n",
              "        google.colab.kernel.accessAllowed ? 'block' : 'none';\n",
              "\n",
              "      buttonEl.onclick = () => {\n",
              "        google.colab.notebook.generateWithVariable('compare');\n",
              "      }\n",
              "      })();\n",
              "    </script>\n",
              "  </div>\n",
              "\n",
              "    </div>\n",
              "  </div>\n"
            ],
            "application/vnd.google.colaboratory.intrinsic+json": {
              "type": "dataframe",
              "variable_name": "compare",
              "summary": "{\n  \"name\": \"compare\",\n  \"rows\": 5,\n  \"fields\": [\n    {\n      \"column\": \"rank\",\n      \"properties\": {\n        \"dtype\": \"number\",\n        \"std\": 1,\n        \"min\": 0,\n        \"max\": 4,\n        \"num_unique_values\": 5,\n        \"samples\": [\n          1,\n          4,\n          2\n        ],\n        \"semantic_type\": \"\",\n        \"description\": \"\"\n      }\n    },\n    {\n      \"column\": \"elpd_loo\",\n      \"properties\": {\n        \"dtype\": \"number\",\n        \"std\": 0.09672519116554384,\n        \"min\": -164.37827601691833,\n        \"max\": -164.13851996356158,\n        \"num_unique_values\": 5,\n        \"samples\": [\n          -164.247336496595,\n          -164.37827601691833,\n          -164.33178559486703\n        ],\n        \"semantic_type\": \"\",\n        \"description\": \"\"\n      }\n    },\n    {\n      \"column\": \"p_loo\",\n      \"properties\": {\n        \"dtype\": \"number\",\n        \"std\": 0.08536407403017422,\n        \"min\": 3.66996760154899,\n        \"max\": 3.883435624060155,\n        \"num_unique_values\": 5,\n        \"samples\": [\n          3.7532160313061524,\n          3.883435624060155,\n          3.8454213404763777\n        ],\n        \"semantic_type\": \"\",\n        \"description\": \"\"\n      }\n    },\n    {\n      \"column\": \"elpd_diff\",\n      \"properties\": {\n        \"dtype\": \"number\",\n        \"std\": 0.0967251911655553,\n        \"min\": 0.0,\n        \"max\": 0.23975605335679706,\n        \"num_unique_values\": 5,\n        \"samples\": [\n          0.10881653303344496,\n          0.23975605335679706,\n          0.19326563130547036\n        ],\n        \"semantic_type\": \"\",\n        \"description\": \"\"\n      }\n    },\n    {\n      \"column\": \"weight\",\n      \"properties\": {\n        \"dtype\": \"number\",\n        \"std\": 0.4472135954999576,\n        \"min\": 0.0,\n        \"max\": 0.9999999999999994,\n        \"num_unique_values\": 4,\n        \"samples\": [\n          0.0,\n          2.220446049250313e-16,\n          0.9999999999999994\n        ],\n        \"semantic_type\": \"\",\n        \"description\": \"\"\n      }\n    },\n    {\n      \"column\": \"se\",\n      \"properties\": {\n        \"dtype\": \"number\",\n        \"std\": 0.022024465748262334,\n        \"min\": 13.013907530629039,\n        \"max\": 13.071027389415407,\n        \"num_unique_values\": 5,\n        \"samples\": [\n          13.022048120706858,\n          13.041868925372379,\n          13.038832916991959\n        ],\n        \"semantic_type\": \"\",\n        \"description\": \"\"\n      }\n    },\n    {\n      \"column\": \"dse\",\n      \"properties\": {\n        \"dtype\": \"number\",\n        \"std\": 0.027397445503052776,\n        \"min\": 0.0,\n        \"max\": 0.06901045363234566,\n        \"num_unique_values\": 5,\n        \"samples\": [\n          0.0564916997641419,\n          0.03800852558454527,\n          0.05985175554950273\n        ],\n        \"semantic_type\": \"\",\n        \"description\": \"\"\n      }\n    },\n    {\n      \"column\": \"warning\",\n      \"properties\": {\n        \"dtype\": \"boolean\",\n        \"num_unique_values\": 1,\n        \"samples\": [\n          false\n        ],\n        \"semantic_type\": \"\",\n        \"description\": \"\"\n      }\n    },\n    {\n      \"column\": \"scale\",\n      \"properties\": {\n        \"dtype\": \"category\",\n        \"num_unique_values\": 1,\n        \"samples\": [\n          \"log\"\n        ],\n        \"semantic_type\": \"\",\n        \"description\": \"\"\n      }\n    }\n  ]\n}"
            }
          },
          "metadata": {},
          "execution_count": 29
        }
      ]
    },
    {
      "cell_type": "code",
      "source": [
        "az.plot_compare(compare)"
      ],
      "metadata": {
        "colab": {
          "base_uri": "https://localhost:8080/",
          "height": 542
        },
        "id": "PWo9jRmMPXnj",
        "outputId": "4e6f12c0-0f94-4e6f-81a8-f416d7a158b0"
      },
      "execution_count": null,
      "outputs": [
        {
          "output_type": "execute_result",
          "data": {
            "text/plain": [
              "<Axes: title={'center': 'Model comparison\\nhigher is better'}, xlabel='elpd_loo (log)', ylabel='ranked models'>"
            ]
          },
          "metadata": {},
          "execution_count": 30
        },
        {
          "output_type": "display_data",
          "data": {
            "text/plain": [
              "<Figure size 600x500 with 1 Axes>"
            ],
            "image/png": "[encoded data removed]"
          },
          "metadata": {}
        }
      ]
    },
    {
      "cell_type": "markdown",
      "source": [
        "They all look pretty much the same, and I am really interested in the b spline, so I want to attempt that. Technically, the elpd_loo shows that b spline is the lowest performing, but just barely. The quadratic would be best, but after reading the notes, b splines really interested me, so I wanted to explore that more. ![cute-cartoon-happy-penguin-vector.jpg](data:image/jpeg;base64,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)"
      ],
      "metadata": {
        "id": "OFvcoYzNP2YU"
      }
    },
    {
      "cell_type": "markdown",
      "source": [
        "##Final model"
      ],
      "metadata": {
        "id": "OdarZbZ4RFzi"
      }
    },
    {
      "cell_type": "markdown",
      "source": [
        "Now I am going to make my b spline models with the 3 different variables."
      ],
      "metadata": {
        "id": "ww0lHTrUUpYM"
      }
    },
    {
      "cell_type": "code",
      "source": [
        "num_knots = 6\n",
        "knots = np.linspace(Penguins[\"flipper_length\"].min(), Penguins[\"flipper_length\"].max(), num_knots + 2)[1:-1]\n",
        "model_spline = bmb.Model(\"body_mass ~ bs(flipper_length, degree=3, knots=knots)\", Penguins, family=\"gaussian\")\n",
        "idata_spline = model_spline.fit()"
      ],
      "metadata": {
        "colab": {
          "base_uri": "https://localhost:8080/",
          "height": 116,
          "referenced_widgets": [
            "461a6bd73df3417e8eb88596c56e5052",
            "740f2b7303e74b9bba7912326a57d354"
          ]
        },
        "id": "ENLkXcppOKBn",
        "outputId": "3fde3f72-ef3f-4715-b9e1-efe5662ed14a"
      },
      "execution_count": null,
      "outputs": [
        {
          "output_type": "display_data",
          "data": {
            "text/plain": [
              "Output()"
            ],
            "application/vnd.jupyter.widget-view+json": {
              "version_major": 2,
              "version_minor": 0,
              "model_id": "461a6bd73df3417e8eb88596c56e5052"
            }
          },
          "metadata": {}
        },
        {
          "output_type": "display_data",
          "data": {
            "text/plain": [],
            "text/html": [
              "<pre style=\"white-space:pre;overflow-x:auto;line-height:normal;font-family:Menlo,'DejaVu Sans Mono',consolas,'Courier New',monospace\"></pre>\n"
            ]
          },
          "metadata": {}
        }
      ]
    },
    {
      "cell_type": "code",
      "source": [
        "bmb.interpret.plot_predictions(model_spline, idata_spline, \"flipper_length\", pps= True)\n",
        "plt.plot(Penguins.flipper_length, Penguins.body_mass, \"C2.\", zorder=-3)"
      ],
      "metadata": {
        "colab": {
          "base_uri": "https://localhost:8080/",
          "height": 504
        },
        "id": "VtcvPRC0OQOu",
        "outputId": "1f7b60a8-6cc7-4645-d09e-2bb21d6401b1"
      },
      "execution_count": null,
      "outputs": [
        {
          "output_type": "stream",
          "name": "stderr",
          "text": [
            "/usr/local/lib/python3.11/dist-packages/arviz/rcparams.py:368: FutureWarning: stats.hdi_prob is deprecated since 0.18.0, use stats.ci_prob instead\n",
            "  warnings.warn(\n"
          ]
        },
        {
          "output_type": "execute_result",
          "data": {
            "text/plain": [
              "[<matplotlib.lines.Line2D at 0x7ee8fce6a890>]"
            ]
          },
          "metadata": {},
          "execution_count": 7
        },
        {
          "output_type": "display_data",
          "data": {
            "text/plain": [
              "<Figure size 640x480 with 1 Axes>"
            ],
            "image/png": "[encoded data removed]"
          },
          "metadata": {}
        }
      ]
    },
    {
      "cell_type": "code",
      "source": [
        "num_knots = 6\n",
        "knots = np.linspace(Penguins[\"bill_length\"].min(), Penguins[\"bill_length\"].max(), num_knots + 2)[1:-1]\n",
        "model_spline = bmb.Model(\"body_mass ~ bs(bill_length, degree=3, knots=knots)\", Penguins, family=\"gaussian\")\n",
        "idata_spline = model_spline.fit()"
      ],
      "metadata": {
        "colab": {
          "base_uri": "https://localhost:8080/",
          "height": 116,
          "referenced_widgets": [
            "3246fbb53e4c487fa80bd3f685f5998f",
            "acfbebfd4347476e935c098a68b82eac"
          ]
        },
        "id": "aFkt5LG5RazY",
        "outputId": "ae043661-dc3c-4a99-f81f-9a8d0fab475d"
      },
      "execution_count": null,
      "outputs": [
        {
          "output_type": "display_data",
          "data": {
            "text/plain": [
              "Output()"
            ],
            "application/vnd.jupyter.widget-view+json": {
              "version_major": 2,
              "version_minor": 0,
              "model_id": "3246fbb53e4c487fa80bd3f685f5998f"
            }
          },
          "metadata": {}
        },
        {
          "output_type": "display_data",
          "data": {
            "text/plain": [],
            "text/html": [
              "<pre style=\"white-space:pre;overflow-x:auto;line-height:normal;font-family:Menlo,'DejaVu Sans Mono',consolas,'Courier New',monospace\"></pre>\n"
            ]
          },
          "metadata": {}
        }
      ]
    },
    {
      "cell_type": "code",
      "source": [
        "bmb.interpret.plot_predictions(model_spline, idata_spline, \"bill_length\", pps= True)\n",
        "plt.plot(Penguins.bill_length, Penguins.body_mass, \"C2.\", zorder=-3)"
      ],
      "metadata": {
        "colab": {
          "base_uri": "https://localhost:8080/",
          "height": 504
        },
        "id": "OeMAtw_pRiJW",
        "outputId": "122cc024-e140-4f32-f6d9-b8628fdcbebe"
      },
      "execution_count": null,
      "outputs": [
        {
          "output_type": "stream",
          "name": "stderr",
          "text": [
            "/usr/local/lib/python3.11/dist-packages/arviz/rcparams.py:368: FutureWarning: stats.hdi_prob is deprecated since 0.18.0, use stats.ci_prob instead\n",
            "  warnings.warn(\n"
          ]
        },
        {
          "output_type": "execute_result",
          "data": {
            "text/plain": [
              "[<matplotlib.lines.Line2D at 0x7ee9005473d0>]"
            ]
          },
          "metadata": {},
          "execution_count": 9
        },
        {
          "output_type": "display_data",
          "data": {
            "text/plain": [
              "<Figure size 640x480 with 1 Axes>"
            ],
            "image/png": "[encoded data removed]"
          },
          "metadata": {}
        }
      ]
    },
    {
      "cell_type": "code",
      "source": [
        "num_knots = 6\n",
        "knots = np.linspace(Penguins[\"bill_depth\"].min(), Penguins[\"bill_depth\"].max(), num_knots + 2)[1:-1]\n",
        "model_spline = bmb.Model(\"body_mass ~ bs(bill_depth, degree=3, knots=knots)\", Penguins, family=\"gaussian\")\n",
        "idata_spline = model_spline.fit()"
      ],
      "metadata": {
        "colab": {
          "base_uri": "https://localhost:8080/",
          "height": 116,
          "referenced_widgets": [
            "16c5d0fdb4904f26b53c96dae5290179",
            "08817bd3897e48cdbdffe9c33dbafb55"
          ]
        },
        "id": "iZTfob4qROr9",
        "outputId": "5f0f5f1d-b28f-47f6-cb56-6c4f6de60bb0"
      },
      "execution_count": null,
      "outputs": [
        {
          "output_type": "display_data",
          "data": {
            "text/plain": [
              "Output()"
            ],
            "application/vnd.jupyter.widget-view+json": {
              "version_major": 2,
              "version_minor": 0,
              "model_id": "16c5d0fdb4904f26b53c96dae5290179"
            }
          },
          "metadata": {}
        },
        {
          "output_type": "display_data",
          "data": {
            "text/plain": [],
            "text/html": [
              "<pre style=\"white-space:pre;overflow-x:auto;line-height:normal;font-family:Menlo,'DejaVu Sans Mono',consolas,'Courier New',monospace\"></pre>\n"
            ]
          },
          "metadata": {}
        }
      ]
    },
    {
      "cell_type": "code",
      "source": [
        "bmb.interpret.plot_predictions(model_spline, idata_spline, \"bill_depth\", pps= True)\n",
        "plt.plot(Penguins.bill_depth, Penguins.body_mass, \"C2.\", zorder=-3)"
      ],
      "metadata": {
        "colab": {
          "base_uri": "https://localhost:8080/",
          "height": 504
        },
        "id": "V7iT_YCWRXzu",
        "outputId": "894b5e33-b21c-456b-ae6d-66c894e5305e"
      },
      "execution_count": null,
      "outputs": [
        {
          "output_type": "stream",
          "name": "stderr",
          "text": [
            "/usr/local/lib/python3.11/dist-packages/arviz/rcparams.py:368: FutureWarning: stats.hdi_prob is deprecated since 0.18.0, use stats.ci_prob instead\n",
            "  warnings.warn(\n"
          ]
        },
        {
          "output_type": "execute_result",
          "data": {
            "text/plain": [
              "[<matplotlib.lines.Line2D at 0x7ee8e9d913d0>]"
            ]
          },
          "metadata": {},
          "execution_count": 32
        },
        {
          "output_type": "display_data",
          "data": {
            "text/plain": [
              "<Figure size 640x480 with 1 Axes>"
            ],
            "image/png": "[encoded data removed]"
          },
          "metadata": {}
        }
      ]
    },
    {
      "cell_type": "markdown",
      "source": [
        "##Conclusion"
      ],
      "metadata": {
        "id": "ZeQgU99DSTYf"
      }
    },
    {
      "cell_type": "markdown",
      "source": [
        "The B spline models look pretty good, with the middle line following the patterns of all the different variables very well. There are some outliers, which could have been prevented if I had done a quadratic model. But, the b splines look pretty good overall. My data has some pretty weird curves, which b splines capture very well, it is one of their strengths! So, I think my final models look pretty good and show my suspected patterns."
      ],
      "metadata": {
        "id": "fuSzEmuQUt0J"
      }
    }
  ]
}