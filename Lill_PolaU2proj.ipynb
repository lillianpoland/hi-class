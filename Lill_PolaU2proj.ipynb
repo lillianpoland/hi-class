{
  "nbformat": 4,
  "nbformat_minor": 0,
  "metadata": {
    "colab": {
      "provenance": [],
      "include_colab_link": true
    },
    "kernelspec": {
      "name": "python3",
      "display_name": "Python 3"
    },
    "language_info": {
      "name": "python"
    }
  },
  "cells": [
    {
      "cell_type": "markdown",
      "metadata": {
        "id": "view-in-github",
        "colab_type": "text"
      },
      "source": [
        "<a href=\"https://colab.research.google.com/github/lillianpoland/hi-class/blob/main/Lill_PolaU2proj.ipynb\" target=\"_parent\"><img src=\"https://colab.research.google.com/assets/colab-badge.svg\" alt=\"Open In Colab\"/></a>"
      ]
    },
    {
      "cell_type": "markdown",
      "source": [
        "# Unit 2 Project: Flipping Metaphorical Coins"
      ],
      "metadata": {
        "id": "hIWO5hU4NeAg"
      }
    },
    {
      "cell_type": "markdown",
      "source": [
        "Football is one of the most popular sports in the USA and The Dallas Cowboys are one of the most famous teams in the National Football League (NFL). Established in 1960, the Cowboys represent Texas and many fans around the country. The NFL's season is split into the regular season and the playoff season, with the winners of the playoffs facing off in the Super Bowl, one of the most watched sporting events. Over the years, the Dallas Cowboys have won five super bowls, but their playoff wins have been incosistent, especially in recent decades. We will be analyzing the playoff win percentage of the Dallas Cowboys for the past 30 years."
      ],
      "metadata": {
        "id": "HkL6b7tlDq-c"
      }
    },
    {
      "cell_type": "markdown",
      "source": [
        "Let's figure out what the Dallas Cowboy's playoff win percentage is in the NFL."
      ],
      "metadata": {
        "id": "L3gywSwf_eGS"
      }
    },
    {
      "cell_type": "markdown",
      "source": [
        "The following are necessary to run the code:"
      ],
      "metadata": {
        "id": "50DcKbMVAPfr"
      }
    },
    {
      "cell_type": "code",
      "source": [
        "!pip install preliz"
      ],
      "metadata": {
        "colab": {
          "base_uri": "https://localhost:8080/"
        },
        "id": "-Kjc3meAAp2y",
        "outputId": "26a4bf3d-a480-4f3a-e249-a21dbedd6c6c",
        "collapsed": true
      },
      "execution_count": 4,
      "outputs": [
        {
          "output_type": "stream",
          "name": "stdout",
          "text": [
            "Collecting preliz\n",
            "  Downloading preliz-0.9.1-py3-none-any.whl.metadata (5.8 kB)\n",
            "Requirement already satisfied: arviz in /usr/local/lib/python3.10/dist-packages (from preliz) (0.18.0)\n",
            "Requirement already satisfied: matplotlib>=3.5 in /usr/local/lib/python3.10/dist-packages (from preliz) (3.7.1)\n",
            "Requirement already satisfied: numba>=0.59 in /usr/local/lib/python3.10/dist-packages (from preliz) (0.60.0)\n",
            "Requirement already satisfied: numpy>=1.22 in /usr/local/lib/python3.10/dist-packages (from preliz) (1.26.4)\n",
            "Collecting scipy<1.13,>=1.9.1 (from preliz)\n",
            "  Downloading scipy-1.12.0-cp310-cp310-manylinux_2_17_x86_64.manylinux2014_x86_64.whl.metadata (60 kB)\n",
            "\u001b[2K     \u001b[90m━━━━━━━━━━━━━━━━━━━━━━━━━━━━━━━━━━━━━━━━\u001b[0m \u001b[32m60.4/60.4 kB\u001b[0m \u001b[31m1.2 MB/s\u001b[0m eta \u001b[36m0:00:00\u001b[0m\n",
            "\u001b[?25hRequirement already satisfied: contourpy>=1.0.1 in /usr/local/lib/python3.10/dist-packages (from matplotlib>=3.5->preliz) (1.3.0)\n",
            "Requirement already satisfied: cycler>=0.10 in /usr/local/lib/python3.10/dist-packages (from matplotlib>=3.5->preliz) (0.12.1)\n",
            "Requirement already satisfied: fonttools>=4.22.0 in /usr/local/lib/python3.10/dist-packages (from matplotlib>=3.5->preliz) (4.53.1)\n",
            "Requirement already satisfied: kiwisolver>=1.0.1 in /usr/local/lib/python3.10/dist-packages (from matplotlib>=3.5->preliz) (1.4.7)\n",
            "Requirement already satisfied: packaging>=20.0 in /usr/local/lib/python3.10/dist-packages (from matplotlib>=3.5->preliz) (24.1)\n",
            "Requirement already satisfied: pillow>=6.2.0 in /usr/local/lib/python3.10/dist-packages (from matplotlib>=3.5->preliz) (9.4.0)\n",
            "Requirement already satisfied: pyparsing>=2.3.1 in /usr/local/lib/python3.10/dist-packages (from matplotlib>=3.5->preliz) (3.1.4)\n",
            "Requirement already satisfied: python-dateutil>=2.7 in /usr/local/lib/python3.10/dist-packages (from matplotlib>=3.5->preliz) (2.8.2)\n",
            "Requirement already satisfied: llvmlite<0.44,>=0.43.0dev0 in /usr/local/lib/python3.10/dist-packages (from numba>=0.59->preliz) (0.43.0)\n",
            "Requirement already satisfied: setuptools>=60.0.0 in /usr/local/lib/python3.10/dist-packages (from arviz->preliz) (71.0.4)\n",
            "Requirement already satisfied: pandas>=1.5.0 in /usr/local/lib/python3.10/dist-packages (from arviz->preliz) (2.1.4)\n",
            "Requirement already satisfied: dm-tree>=0.1.8 in /usr/local/lib/python3.10/dist-packages (from arviz->preliz) (0.1.8)\n",
            "Requirement already satisfied: xarray>=2022.6.0 in /usr/local/lib/python3.10/dist-packages (from arviz->preliz) (2024.6.0)\n",
            "Requirement already satisfied: h5netcdf>=1.0.2 in /usr/local/lib/python3.10/dist-packages (from arviz->preliz) (1.3.0)\n",
            "Requirement already satisfied: typing-extensions>=4.1.0 in /usr/local/lib/python3.10/dist-packages (from arviz->preliz) (4.12.2)\n",
            "Requirement already satisfied: xarray-einstats>=0.3 in /usr/local/lib/python3.10/dist-packages (from arviz->preliz) (0.7.0)\n",
            "Requirement already satisfied: h5py in /usr/local/lib/python3.10/dist-packages (from h5netcdf>=1.0.2->arviz->preliz) (3.11.0)\n",
            "Requirement already satisfied: pytz>=2020.1 in /usr/local/lib/python3.10/dist-packages (from pandas>=1.5.0->arviz->preliz) (2024.2)\n",
            "Requirement already satisfied: tzdata>=2022.1 in /usr/local/lib/python3.10/dist-packages (from pandas>=1.5.0->arviz->preliz) (2024.1)\n",
            "Requirement already satisfied: six>=1.5 in /usr/local/lib/python3.10/dist-packages (from python-dateutil>=2.7->matplotlib>=3.5->preliz) (1.16.0)\n",
            "Downloading preliz-0.9.1-py3-none-any.whl (505 kB)\n",
            "\u001b[2K   \u001b[90m━━━━━━━━━━━━━━━━━━━━━━━━━━━━━━━━━━━━━━━━\u001b[0m \u001b[32m505.6/505.6 kB\u001b[0m \u001b[31m8.3 MB/s\u001b[0m eta \u001b[36m0:00:00\u001b[0m\n",
            "\u001b[?25hDownloading scipy-1.12.0-cp310-cp310-manylinux_2_17_x86_64.manylinux2014_x86_64.whl (38.4 MB)\n",
            "\u001b[2K   \u001b[90m━━━━━━━━━━━━━━━━━━━━━━━━━━━━━━━━━━━━━━━━\u001b[0m \u001b[32m38.4/38.4 MB\u001b[0m \u001b[31m13.4 MB/s\u001b[0m eta \u001b[36m0:00:00\u001b[0m\n",
            "\u001b[?25hInstalling collected packages: scipy, preliz\n",
            "  Attempting uninstall: scipy\n",
            "    Found existing installation: scipy 1.13.1\n",
            "    Uninstalling scipy-1.13.1:\n",
            "      Successfully uninstalled scipy-1.13.1\n",
            "\u001b[31mERROR: pip's dependency resolver does not currently take into account all the packages that are installed. This behaviour is the source of the following dependency conflicts.\n",
            "osqp 0.6.7.post0 requires scipy!=1.12.0,>=0.13.2, but you have scipy 1.12.0 which is incompatible.\u001b[0m\u001b[31m\n",
            "\u001b[0mSuccessfully installed preliz-0.9.1 scipy-1.12.0\n"
          ]
        }
      ]
    },
    {
      "cell_type": "code",
      "source": [
        "import preliz as pz"
      ],
      "metadata": {
        "id": "8h1CCndZApv9"
      },
      "execution_count": 5,
      "outputs": []
    },
    {
      "cell_type": "code",
      "source": [
        "import numpy as np\n",
        "import arviz as az\n",
        "import pymc as pm"
      ],
      "metadata": {
        "id": "xeY4CBGkAplt"
      },
      "execution_count": 6,
      "outputs": []
    },
    {
      "cell_type": "markdown",
      "source": [
        "We can start by making an assumption. The following plots the uniform distribution."
      ],
      "metadata": {
        "id": "9tX18iQoA_Td"
      }
    },
    {
      "cell_type": "code",
      "source": [
        "pz.Uniform(0,1).plot_pdf() # plots the uniform distribution"
      ],
      "metadata": {
        "colab": {
          "base_uri": "https://localhost:8080/",
          "height": 448
        },
        "id": "0yPFM5JxAajw",
        "outputId": "cba69c3b-8060-4fb0-da78-9a528c64b6d8"
      },
      "execution_count": 7,
      "outputs": [
        {
          "output_type": "execute_result",
          "data": {
            "text/plain": [
              "<Axes: >"
            ]
          },
          "metadata": {},
          "execution_count": 7
        },
        {
          "output_type": "display_data",
          "data": {
            "text/plain": [
              "<Figure size 640x480 with 1 Axes>"
            ],
            "image/png": "[encoded data removed]"
          },
          "metadata": {}
        }
      ]
    },
    {
      "cell_type": "markdown",
      "source": [
        "I am assuming that the Dallas Cowboys will have won 30% of their playoff games.\n",
        "This is due to their previous history of success, but recent reputation of failure. Because this analysis only goes back 30 years - until 1993, I believe their percent of playoff wins will be relatively low.\n"
      ],
      "metadata": {
        "id": "YYfEjVfYBgEv"
      }
    },
    {
      "cell_type": "code",
      "source": [
        "pz.Beta(alpha=3,beta=7).plot_pdf()"
      ],
      "metadata": {
        "colab": {
          "base_uri": "https://localhost:8080/",
          "height": 448
        },
        "id": "YPLNToxTGu5P",
        "outputId": "1d503d99-df46-4773-dad3-c8bc2dd4f9fe"
      },
      "execution_count": 8,
      "outputs": [
        {
          "output_type": "execute_result",
          "data": {
            "text/plain": [
              "<Axes: >"
            ]
          },
          "metadata": {},
          "execution_count": 8
        },
        {
          "output_type": "display_data",
          "data": {
            "text/plain": [
              "<Figure size 640x480 with 1 Axes>"
            ],
            "image/png": "[encoded data removed]"
          },
          "metadata": {}
        }
      ]
    },
    {
      "cell_type": "markdown",
      "source": [
        "This graph represents my assumption as the peak is at 0.3, which is my estimated success rate of the Cowboys. The Beta distribution reflects a bit of uncertainty, as other winning percentages such as 20% or 40% are possibly, though less likely in my opinion."
      ],
      "metadata": {
        "id": "ceRtmoK5JlQV"
      }
    },
    {
      "cell_type": "markdown",
      "source": [
        "The Dallas Cowboys played 23 playoff games in the past 30 years. Over the years, they have won 9 of those games, losing 14. This data starts in 1993 (30 years before 2023), since the 2024-25 season has just started and we don't have data yet."
      ],
      "metadata": {
        "id": "60YC8wtZLiE7"
      }
    },
    {
      "cell_type": "code",
      "source": [
        "Cowboys_wins=np.array([1,0,1,1,1,1,0,0,0,0,0,0,1,0,1,0,0,1,0,0,1,0,0])"
      ],
      "metadata": {
        "id": "4H5TSq-2Qw5x"
      },
      "execution_count": 9,
      "outputs": []
    },
    {
      "cell_type": "code",
      "source": [
        "#Cowboy's playoff wins in the past 30 years\n",
        "Dallas_Wins_30yrs = np.repeat([1,0], repeats = [9,14])"
      ],
      "metadata": {
        "id": "GRyVTrB0PSHT"
      },
      "execution_count": 10,
      "outputs": []
    },
    {
      "cell_type": "code",
      "source": [
        "with pm.Model() as Cowboys_wins:\n",
        "  #same prior from before based on NFL data\n",
        "  θ = pm.Beta('θ' , alpha = 3. , beta = 7.)\n",
        "#same likelihood, with our stand in for the binomial distribution\n",
        "  #but with the updated data\n",
        "  y = pm.Bernoulli('y', p = θ, observed = Dallas_Wins_30yrs)\n",
        "#sample from the posterior, 2000 for a more prcise picture later\n",
        "  idata_Cowboys_Wins = pm.sample(2000)"
      ],
      "metadata": {
        "colab": {
          "base_uri": "https://localhost:8080/",
          "height": 57
        },
        "id": "EJP5rahPR2_i",
        "outputId": "38b68409-3551-4d70-e499-c1eed415beaa"
      },
      "execution_count": 11,
      "outputs": [
        {
          "output_type": "display_data",
          "data": {
            "text/plain": [
              "<IPython.core.display.HTML object>"
            ],
            "text/html": [
              "\n",
              "<style>\n",
              "    /* Turns off some styling */\n",
              "    progress {\n",
              "        /* gets rid of default border in Firefox and Opera. */\n",
              "        border: none;\n",
              "        /* Needs to be in here for Safari polyfill so background images work as expected. */\n",
              "        background-size: auto;\n",
              "    }\n",
              "    progress:not([value]), progress:not([value])::-webkit-progress-bar {\n",
              "        background: repeating-linear-gradient(45deg, #7e7e7e, #7e7e7e 10px, #5c5c5c 10px, #5c5c5c 20px);\n",
              "    }\n",
              "    .progress-bar-interrupted, .progress-bar-interrupted::-webkit-progress-bar {\n",
              "        background: #F44336;\n",
              "    }\n",
              "</style>\n"
            ]
          },
          "metadata": {}
        },
        {
          "output_type": "display_data",
          "data": {
            "text/plain": [
              "<IPython.core.display.HTML object>"
            ],
            "text/html": [
              "\n",
              "    <div>\n",
              "      <progress value='3000' class='' max='3000' style='width:300px; height:20px; vertical-align: middle;'></progress>\n",
              "      100.00% [3000/3000 00:01&lt;00:00 Sampling chain 0, 0 divergences]\n",
              "    </div>\n",
              "    "
            ]
          },
          "metadata": {}
        },
        {
          "output_type": "display_data",
          "data": {
            "text/plain": [
              "<IPython.core.display.HTML object>"
            ],
            "text/html": [
              "\n",
              "<style>\n",
              "    /* Turns off some styling */\n",
              "    progress {\n",
              "        /* gets rid of default border in Firefox and Opera. */\n",
              "        border: none;\n",
              "        /* Needs to be in here for Safari polyfill so background images work as expected. */\n",
              "        background-size: auto;\n",
              "    }\n",
              "    progress:not([value]), progress:not([value])::-webkit-progress-bar {\n",
              "        background: repeating-linear-gradient(45deg, #7e7e7e, #7e7e7e 10px, #5c5c5c 10px, #5c5c5c 20px);\n",
              "    }\n",
              "    .progress-bar-interrupted, .progress-bar-interrupted::-webkit-progress-bar {\n",
              "        background: #F44336;\n",
              "    }\n",
              "</style>\n"
            ]
          },
          "metadata": {}
        },
        {
          "output_type": "display_data",
          "data": {
            "text/plain": [
              "<IPython.core.display.HTML object>"
            ],
            "text/html": [
              "\n",
              "    <div>\n",
              "      <progress value='3000' class='' max='3000' style='width:300px; height:20px; vertical-align: middle;'></progress>\n",
              "      100.00% [3000/3000 00:01&lt;00:00 Sampling chain 1, 0 divergences]\n",
              "    </div>\n",
              "    "
            ]
          },
          "metadata": {}
        }
      ]
    },
    {
      "cell_type": "code",
      "source": [
        "#vizualize the 2000 samples from the pymc model of the posterior\n",
        "az.plot_posterior(idata_Cowboys_Wins)"
      ],
      "metadata": {
        "colab": {
          "base_uri": "https://localhost:8080/",
          "height": 476
        },
        "id": "jPDdIILWTuQp",
        "outputId": "9a529697-56cd-494e-b344-a5ebbffdc2cb"
      },
      "execution_count": 12,
      "outputs": [
        {
          "output_type": "execute_result",
          "data": {
            "text/plain": [
              "<Axes: title={'center': 'θ'}>"
            ]
          },
          "metadata": {},
          "execution_count": 12
        },
        {
          "output_type": "display_data",
          "data": {
            "text/plain": [
              "<Figure size 640x480 with 1 Axes>"
            ],
            "image/png": "[encoded data removed]"
          },
          "metadata": {}
        }
      ]
    },
    {
      "cell_type": "markdown",
      "source": [
        "This model shows the playoff win percentage peak being at 36%. This data is based on 23 playoff games, 9 wins and 14 losses. The posterior mean (0.36) suggests the most likely playoff percent with probability, considering both the prior and our array data.\n",
        "\n",
        "Simple algebra would give us a slighty different answer:\n",
        "\n",
        "9/(9+14) = 0.39\n",
        "\n",
        "However, our model's mean is 0.36 because of my original uncertainty that the Cowboys would win 30% of their playoff games.\n",
        "\n",
        "This data and model allow us to analyze playoff wins of the Dallas Cowboys over the past 30 years. I am not shocked by the results, even though they are slightly higher than I expected."
      ],
      "metadata": {
        "id": "Y0Mbhb47M-Iu"
      }
    }
  ]
}